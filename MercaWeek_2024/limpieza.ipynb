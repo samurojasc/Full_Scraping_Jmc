{
 "cells": [
  {
   "cell_type": "code",
   "id": "initial_id",
   "metadata": {
    "collapsed": true,
    "ExecuteTime": {
     "end_time": "2024-08-29T19:23:13.553891Z",
     "start_time": "2024-08-29T19:23:13.514064Z"
    }
   },
   "source": [
    "import pandas as pd\n",
    "from thefuzz import process"
   ],
   "outputs": [],
   "execution_count": 25
  },
  {
   "metadata": {
    "ExecuteTime": {
     "end_time": "2024-08-29T18:03:58.733224Z",
     "start_time": "2024-08-29T18:03:58.587361Z"
    }
   },
   "cell_type": "code",
   "source": [
    "archivos = ['MercaWeek_Carulla.xlsx', 'MercaWeek_Exito.xlsx'\n",
    "            , 'Cumpleaños_Carulla.xlsx']\n",
    "\n",
    "\n",
    "for archivo in archivos:\n",
    "    df = pd.read_excel(archivo)\n",
    "    \n",
    "    if 'Precio regular' in df.columns and 'Precio promocional' in df.columns:\n",
    "\n",
    "        df = df[df['Precio regular'] != df['Precio promocional']]\n",
    "        \n",
    "        df['% de descuento'] = round((1 - df['Precio promocional'] / df['Precio regular']) * 100)\n",
    "        df['% de descuento'] = df['% de descuento'].astype(int).astype(str) + '%'\n",
    "        \n",
    "\n",
    "        df.to_excel(archivo, index=False)\n",
    "        print(f'Archivo {archivo} actualizado correctamente con la columna % de descuento.')\n",
    "    else:\n",
    "        print(f'El archivo {archivo} no contiene las columnas necesarias.')\n",
    "    "
   ],
   "id": "bf60349cc8eb30e7",
   "outputs": [
    {
     "name": "stdout",
     "output_type": "stream",
     "text": [
      "Archivo MercaWeek_Carulla.xlsx actualizado correctamente con la columna % de descuento.\n",
      "Archivo MercaWeek_Exito.xlsx actualizado correctamente con la columna % de descuento.\n",
      "Archivo Cumpleaños_Carulla.xlsx actualizado correctamente con la columna % de descuento.\n"
     ]
    }
   ],
   "execution_count": 19
  },
  {
   "metadata": {
    "ExecuteTime": {
     "end_time": "2024-08-29T19:31:12.878989Z",
     "start_time": "2024-08-29T19:31:12.814770Z"
    }
   },
   "cell_type": "code",
   "source": [
    "df_comparables = pd.read_excel('comparables.xlsx')\n",
    "df_comparables.head()"
   ],
   "id": "88681cd327a672d",
   "outputs": [
    {
     "data": {
      "text/plain": [
       "   LLAVE           EAN  Cod. Article                        Cod. Article.1  \\\n",
       "0   27UN  7.702511e+12            27                ARROZ DIANA BOLSA 500g   \n",
       "1  27R01  2.000000e+12            27              ARROZ DIANA BOLSA 12500g   \n",
       "2   34UN  7.702084e+12            34    HARINA PAN MAIZ BLANCO BOLSA 1000g   \n",
       "3   38UN  7.702032e+12            38            CAFE SELLO ROJO BOLSA 250g   \n",
       "4   43UN  7.703812e+12            43  SAL REFISAL ALTA PUREZA BOLSA 1000 g   \n",
       "\n",
       "   Gramaje   UM Artículos encontrados comparables Éxito Suba  \\\n",
       "0    500.0   UN     Arroz Blanco Diana X 500 Gr DIANA 500 gr   \n",
       "1  12500.0  R01  Arroz Blanco Diana X 500 Gr DIANA 12500 gr    \n",
       "2   1000.0   UN            harina-pan-maiz-blanca-x-1000-gr-   \n",
       "3    250.0   UN                CAFE MOLIDO SELLO ROJO 250 gr   \n",
       "4   1000.0   UN                        sal-refinada-1000-gr-   \n",
       "\n",
       "                                                LINK  \n",
       "0  https://www.exito.com/arroz-diana-500-gr-479512/p  \n",
       "1  https://www.exito.com/arroz-blanco-arroba-1250...  \n",
       "2  https://www.exito.com/harina-pan-maiz-blanca-x...  \n",
       "3          https://www.exito.com/cafe-molido-34895/p  \n",
       "4  https://www.exito.com/sal-refinada-1000-gr-345...  "
      ],
      "text/html": [
       "<div>\n",
       "<style scoped>\n",
       "    .dataframe tbody tr th:only-of-type {\n",
       "        vertical-align: middle;\n",
       "    }\n",
       "\n",
       "    .dataframe tbody tr th {\n",
       "        vertical-align: top;\n",
       "    }\n",
       "\n",
       "    .dataframe thead th {\n",
       "        text-align: right;\n",
       "    }\n",
       "</style>\n",
       "<table border=\"1\" class=\"dataframe\">\n",
       "  <thead>\n",
       "    <tr style=\"text-align: right;\">\n",
       "      <th></th>\n",
       "      <th>LLAVE</th>\n",
       "      <th>EAN</th>\n",
       "      <th>Cod. Article</th>\n",
       "      <th>Cod. Article.1</th>\n",
       "      <th>Gramaje</th>\n",
       "      <th>UM</th>\n",
       "      <th>Artículos encontrados comparables Éxito Suba</th>\n",
       "      <th>LINK</th>\n",
       "    </tr>\n",
       "  </thead>\n",
       "  <tbody>\n",
       "    <tr>\n",
       "      <th>0</th>\n",
       "      <td>27UN</td>\n",
       "      <td>7.702511e+12</td>\n",
       "      <td>27</td>\n",
       "      <td>ARROZ DIANA BOLSA 500g</td>\n",
       "      <td>500.0</td>\n",
       "      <td>UN</td>\n",
       "      <td>Arroz Blanco Diana X 500 Gr DIANA 500 gr</td>\n",
       "      <td>https://www.exito.com/arroz-diana-500-gr-479512/p</td>\n",
       "    </tr>\n",
       "    <tr>\n",
       "      <th>1</th>\n",
       "      <td>27R01</td>\n",
       "      <td>2.000000e+12</td>\n",
       "      <td>27</td>\n",
       "      <td>ARROZ DIANA BOLSA 12500g</td>\n",
       "      <td>12500.0</td>\n",
       "      <td>R01</td>\n",
       "      <td>Arroz Blanco Diana X 500 Gr DIANA 12500 gr</td>\n",
       "      <td>https://www.exito.com/arroz-blanco-arroba-1250...</td>\n",
       "    </tr>\n",
       "    <tr>\n",
       "      <th>2</th>\n",
       "      <td>34UN</td>\n",
       "      <td>7.702084e+12</td>\n",
       "      <td>34</td>\n",
       "      <td>HARINA PAN MAIZ BLANCO BOLSA 1000g</td>\n",
       "      <td>1000.0</td>\n",
       "      <td>UN</td>\n",
       "      <td>harina-pan-maiz-blanca-x-1000-gr-</td>\n",
       "      <td>https://www.exito.com/harina-pan-maiz-blanca-x...</td>\n",
       "    </tr>\n",
       "    <tr>\n",
       "      <th>3</th>\n",
       "      <td>38UN</td>\n",
       "      <td>7.702032e+12</td>\n",
       "      <td>38</td>\n",
       "      <td>CAFE SELLO ROJO BOLSA 250g</td>\n",
       "      <td>250.0</td>\n",
       "      <td>UN</td>\n",
       "      <td>CAFE MOLIDO SELLO ROJO 250 gr</td>\n",
       "      <td>https://www.exito.com/cafe-molido-34895/p</td>\n",
       "    </tr>\n",
       "    <tr>\n",
       "      <th>4</th>\n",
       "      <td>43UN</td>\n",
       "      <td>7.703812e+12</td>\n",
       "      <td>43</td>\n",
       "      <td>SAL REFISAL ALTA PUREZA BOLSA 1000 g</td>\n",
       "      <td>1000.0</td>\n",
       "      <td>UN</td>\n",
       "      <td>sal-refinada-1000-gr-</td>\n",
       "      <td>https://www.exito.com/sal-refinada-1000-gr-345...</td>\n",
       "    </tr>\n",
       "  </tbody>\n",
       "</table>\n",
       "</div>"
      ]
     },
     "execution_count": 38,
     "metadata": {},
     "output_type": "execute_result"
    }
   ],
   "execution_count": 38
  },
  {
   "metadata": {
    "ExecuteTime": {
     "end_time": "2024-08-29T19:40:31.662085Z",
     "start_time": "2024-08-29T19:40:27.775267Z"
    }
   },
   "cell_type": "code",
   "source": [
    "df_comparables['Mejor_Articulo_Exito'] = ''\n",
    "df_comparables['Puntaje'] = 0\n",
    "df_comparables['Comparacion'] = ''\n",
    "\n",
    "umbral = 87\n",
    "\n",
    "for archivo in archivos:\n",
    "    df = pd.read_excel(archivo)\n",
    "    for i, row in df_comparables.iterrows():\n",
    "        articulo_ara = row['LINK']\n",
    "        mejor_match = process.extractOne(articulo_ara, df['Link'])\n",
    "    \n",
    "        if mejor_match[1] >= umbral:\n",
    "            df_comparables.at[i, 'Mejor_Articulo_Exito'] = mejor_match[0]\n",
    "            df_comparables.at[i, 'Puntaje'] = mejor_match[1]\n",
    "            df_comparables.at[i, 'Comparacion'] = 'Comparable'\n",
    "        else:\n",
    "            df_comparables.at[i, 'Mejor_Articulo_Exito'] = 'No comparable'\n",
    "            df_comparables.at[i, 'Puntaje'] = mejor_match[1]\n",
    "            df_comparables.at[i, 'Comparacion'] = 'No comparable'\n",
    "    \n",
    "    df_comparables.to_excel(archivo[:-5] + 'Comparables.xlsx', index=False)\n",
    "# Guardar los resultados en un nuevo archivo Excel\n",
    "#df_comparables.to_excel('resultado_matches.xlsx', index=False)\n",
    "#df_comparables.head()"
   ],
   "id": "4d54c6967aa75616",
   "outputs": [],
   "execution_count": 52
  }
 ],
 "metadata": {
  "kernelspec": {
   "display_name": "Python 3",
   "language": "python",
   "name": "python3"
  },
  "language_info": {
   "codemirror_mode": {
    "name": "ipython",
    "version": 2
   },
   "file_extension": ".py",
   "mimetype": "text/x-python",
   "name": "python",
   "nbconvert_exporter": "python",
   "pygments_lexer": "ipython2",
   "version": "2.7.6"
  }
 },
 "nbformat": 4,
 "nbformat_minor": 5
}
