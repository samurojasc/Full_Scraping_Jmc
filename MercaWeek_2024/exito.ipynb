{
 "cells": [
  {
   "cell_type": "code",
   "id": "initial_id",
   "metadata": {
    "collapsed": true,
    "ExecuteTime": {
     "end_time": "2024-08-29T17:03:36.753626Z",
     "start_time": "2024-08-29T17:03:35.717169Z"
    }
   },
   "source": [
    "import requests\n",
    "import pandas as pd\n",
    "import base64\n",
    "import json"
   ],
   "outputs": [],
   "execution_count": 13
  },
  {
   "metadata": {
    "ExecuteTime": {
     "end_time": "2024-08-29T17:37:35.200364Z",
     "start_time": "2024-08-29T17:37:35.192138Z"
    }
   },
   "cell_type": "code",
   "source": [
    "import os\n",
    "import json\n",
    "\n",
    "def get_longest_category(categories):\n",
    "    # Seleccionar la categoría más larga\n",
    "    longest_category = max(categories, key=len) if categories else ''\n",
    "    # Dividir la categoría en niveles individuales\n",
    "    return longest_category.strip('/').split('/')\n",
    "\n",
    "def process_json_file(filepath):\n",
    "    \"\"\"Procesa un archivo JSON dado su path.\"\"\"\n",
    "    with open(filepath, 'r', encoding='utf-8') as file:\n",
    "        data = json.load(file)\n",
    "    return data # Ejemplo de procesamiento\n",
    "\n",
    "def iterate_json_files_in_directory(directory_path):\n",
    "    all_products = []\n",
    "    \"\"\"Itera sobre archivos JSON en el directorio dado.\"\"\"\n",
    "    for filename in os.listdir(directory_path):\n",
    "            file_path = os.path.join(directory_path, filename)\n",
    "            data = process_json_file(file_path)\n",
    "            products =  data.get('data',{}).get('search',{}).get('products',[]).get('edges',[])\n",
    "            for product in products:\n",
    "                # Extrae la información deseada\n",
    "                node = product.get('node',{})\n",
    "                product_name = node.get('name','No disponible')\n",
    "                link = node.get('slug', 'No disponible')\n",
    "                try:\n",
    "                    selling_price = node.get('sellers','')[0].get('commertialOffer','').get('Price','No disponible')\n",
    "                    list_price = node.get('sellers','')[0].get('commertialOffer','').get('PriceWithoutDiscount','No disponible')\n",
    "                except:\n",
    "                    selling_price = 'No disponible'\n",
    "                    list_price = 'No disponible'\n",
    "                categories = node.get('categories', [])\n",
    "                longest_category_levels = node.get('breadcrumbList',[]).get('itemListElement',[])[-2].get('item','').strip('/').split('/')\n",
    "    \n",
    "                all_products.append({\n",
    "                    **{f'Category Level {i+1}': longest_category_levels[i] if i < len(longest_category_levels) else None for i in range(len(longest_category_levels))},\n",
    "                    'Nombre': product_name,\n",
    "                    'Link': 'https://www.exito.com/'+ link + '/p' ,\n",
    "                    'Precio promocional': selling_price,\n",
    "                    'Precio regular': list_price,\n",
    "            \n",
    "                })\n",
    "    df = pd.DataFrame(all_products)\n",
    "    df.rename(columns = {\n",
    "    'Category Level 1':'Divisón',\n",
    "    'Category Level 2':'Categoría',\n",
    "    'Category Level 3':'Subcategoría',\n",
    "    }, inplace=True)\n",
    "    df = df.drop(df.columns[-1], axis=1)\n",
    "    return df\n",
    "    \n",
    "    \n",
    "# Cambia 'ruta/a/tu/carpeta' por el path a tu carpeta con archivos JSON\n",
    "directory_path = 'C:\\\\Users\\\\mxrojas\\\\PycharmProjects\\\\JMC - SCRAPING\\\\MercaWeek_2024\\\\json_exito'"
   ],
   "id": "2162f7ec7b11a804",
   "outputs": [],
   "execution_count": 130
  },
  {
   "metadata": {
    "ExecuteTime": {
     "end_time": "2024-08-29T17:37:35.585892Z",
     "start_time": "2024-08-29T17:37:35.537115Z"
    }
   },
   "cell_type": "code",
   "source": "df = iterate_json_files_in_directory(directory_path)",
   "id": "8c9ca20d24dbdc82",
   "outputs": [],
   "execution_count": 131
  },
  {
   "metadata": {
    "ExecuteTime": {
     "end_time": "2024-08-29T17:37:36.020745Z",
     "start_time": "2024-08-29T17:37:36.012998Z"
    }
   },
   "cell_type": "code",
   "source": "df.head()",
   "id": "15d1b034e8a2f2be",
   "outputs": [
    {
     "data": {
      "text/plain": [
       "   Divisón                      Categoría                Subcategoría  \\\n",
       "0  mercado  lacteos-huevos-y-refrigerados                       leche   \n",
       "1  mercado  lacteos-huevos-y-refrigerados  quesos-quesitos-y-cuajadas   \n",
       "2  mercado  lacteos-huevos-y-refrigerados    yogurt-y-bebidas-lacteas   \n",
       "3  mercado  lacteos-huevos-y-refrigerados    yogurt-y-bebidas-lacteas   \n",
       "4  mercado  lacteos-huevos-y-refrigerados    yogurt-y-bebidas-lacteas   \n",
       "\n",
       "                                              Nombre  \\\n",
       "0  Leche Deslactosada ALPINA Bolsa x6und 1100ml (...   \n",
       "1         Queso Mozarella FINESSE 30 Tajadas(450 gr)   \n",
       "2  Alimento Lácteo BON YURT Zucaritas x4und 170gr...   \n",
       "3  Yogurt ALPINA Original multisabor x5und vaso (...   \n",
       "4  Alim Lacteo Ferm X8 Unds Bolsa YOGO YOGO 1200  gr   \n",
       "\n",
       "                                                Link Precio promocional  \\\n",
       "0  https://www.exito.com/leche-deslactosada-sixpa...              31940   \n",
       "1  https://www.exito.com/queso-fresco-15-pcto-de-...              20512   \n",
       "2  https://www.exito.com/alimento-lacteo-con-cere...               9210   \n",
       "3  https://www.exito.com/yogurt-pack-x5-unidades-...               9450   \n",
       "4  https://www.exito.com/yogures-en-bolsa-paq-x-8...               8137   \n",
       "\n",
       "  Precio regular  \n",
       "0          31940  \n",
       "1          27350  \n",
       "2          15350  \n",
       "3          12600  \n",
       "4          10850  "
      ],
      "text/html": [
       "<div>\n",
       "<style scoped>\n",
       "    .dataframe tbody tr th:only-of-type {\n",
       "        vertical-align: middle;\n",
       "    }\n",
       "\n",
       "    .dataframe tbody tr th {\n",
       "        vertical-align: top;\n",
       "    }\n",
       "\n",
       "    .dataframe thead th {\n",
       "        text-align: right;\n",
       "    }\n",
       "</style>\n",
       "<table border=\"1\" class=\"dataframe\">\n",
       "  <thead>\n",
       "    <tr style=\"text-align: right;\">\n",
       "      <th></th>\n",
       "      <th>Divisón</th>\n",
       "      <th>Categoría</th>\n",
       "      <th>Subcategoría</th>\n",
       "      <th>Nombre</th>\n",
       "      <th>Link</th>\n",
       "      <th>Precio promocional</th>\n",
       "      <th>Precio regular</th>\n",
       "    </tr>\n",
       "  </thead>\n",
       "  <tbody>\n",
       "    <tr>\n",
       "      <th>0</th>\n",
       "      <td>mercado</td>\n",
       "      <td>lacteos-huevos-y-refrigerados</td>\n",
       "      <td>leche</td>\n",
       "      <td>Leche Deslactosada ALPINA Bolsa x6und 1100ml (...</td>\n",
       "      <td>https://www.exito.com/leche-deslactosada-sixpa...</td>\n",
       "      <td>31940</td>\n",
       "      <td>31940</td>\n",
       "    </tr>\n",
       "    <tr>\n",
       "      <th>1</th>\n",
       "      <td>mercado</td>\n",
       "      <td>lacteos-huevos-y-refrigerados</td>\n",
       "      <td>quesos-quesitos-y-cuajadas</td>\n",
       "      <td>Queso Mozarella FINESSE 30 Tajadas(450 gr)</td>\n",
       "      <td>https://www.exito.com/queso-fresco-15-pcto-de-...</td>\n",
       "      <td>20512</td>\n",
       "      <td>27350</td>\n",
       "    </tr>\n",
       "    <tr>\n",
       "      <th>2</th>\n",
       "      <td>mercado</td>\n",
       "      <td>lacteos-huevos-y-refrigerados</td>\n",
       "      <td>yogurt-y-bebidas-lacteas</td>\n",
       "      <td>Alimento Lácteo BON YURT Zucaritas x4und 170gr...</td>\n",
       "      <td>https://www.exito.com/alimento-lacteo-con-cere...</td>\n",
       "      <td>9210</td>\n",
       "      <td>15350</td>\n",
       "    </tr>\n",
       "    <tr>\n",
       "      <th>3</th>\n",
       "      <td>mercado</td>\n",
       "      <td>lacteos-huevos-y-refrigerados</td>\n",
       "      <td>yogurt-y-bebidas-lacteas</td>\n",
       "      <td>Yogurt ALPINA Original multisabor x5und vaso (...</td>\n",
       "      <td>https://www.exito.com/yogurt-pack-x5-unidades-...</td>\n",
       "      <td>9450</td>\n",
       "      <td>12600</td>\n",
       "    </tr>\n",
       "    <tr>\n",
       "      <th>4</th>\n",
       "      <td>mercado</td>\n",
       "      <td>lacteos-huevos-y-refrigerados</td>\n",
       "      <td>yogurt-y-bebidas-lacteas</td>\n",
       "      <td>Alim Lacteo Ferm X8 Unds Bolsa YOGO YOGO 1200  gr</td>\n",
       "      <td>https://www.exito.com/yogures-en-bolsa-paq-x-8...</td>\n",
       "      <td>8137</td>\n",
       "      <td>10850</td>\n",
       "    </tr>\n",
       "  </tbody>\n",
       "</table>\n",
       "</div>"
      ]
     },
     "execution_count": 132,
     "metadata": {},
     "output_type": "execute_result"
    }
   ],
   "execution_count": 132
  },
  {
   "metadata": {
    "ExecuteTime": {
     "end_time": "2024-08-29T17:37:55.066099Z",
     "start_time": "2024-08-29T17:37:54.797672Z"
    }
   },
   "cell_type": "code",
   "source": "df.to_excel('MercaWeek_Exito.xlsx', index=False)",
   "id": "2cf6cfcdbc09ec17",
   "outputs": [],
   "execution_count": 133
  },
  {
   "metadata": {},
   "cell_type": "code",
   "outputs": [],
   "execution_count": null,
   "source": "",
   "id": "1eb69f4b6025afbd"
  }
 ],
 "metadata": {
  "kernelspec": {
   "display_name": "Python 3",
   "language": "python",
   "name": "python3"
  },
  "language_info": {
   "codemirror_mode": {
    "name": "ipython",
    "version": 2
   },
   "file_extension": ".py",
   "mimetype": "text/x-python",
   "name": "python",
   "nbconvert_exporter": "python",
   "pygments_lexer": "ipython2",
   "version": "2.7.6"
  }
 },
 "nbformat": 4,
 "nbformat_minor": 5
}
