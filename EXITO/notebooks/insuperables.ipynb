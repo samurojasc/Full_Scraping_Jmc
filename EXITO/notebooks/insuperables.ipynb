{
 "cells": [
  {
   "metadata": {},
   "cell_type": "markdown",
   "source": [
    "# Extracción de Precios de Productos - Tiendas Éxito\n",
    "\n",
    "Este notebook automatiza la extracción y comparación de precios de productos en distintas tiendas de Éxito en Colombia, procesando datos de un archivo Excel y guardando los resultados en un nuevo archivo."
   ],
   "id": "bece5cf96cb5404f"
  },
  {
   "metadata": {},
   "cell_type": "markdown",
   "source": [
    "### Importación de librerías\n",
    "\n",
    "En esta celda se importan las librerías necesarias para el scraping y el manejo de datos. Estas incluyen:\n",
    "- `time`, `json`, y `base64`: Para manejo de tiempos y codificaciones de cookies.\n",
    "- `requests`: Para realizar solicitudes HTTP y obtener el contenido de las URLs.\n",
    "- `pandas`: Para leer y manipular los datos en formato Excel.\n",
    "- `tqdm`: Para mostrar barras de progreso en la ejecución de bucles.\n",
    "- `BeautifulSoup` (de `bs4`): Para analizar y extraer datos de HTML.\n",
    "- `selenium` con `webdriver`: Para automatizar la navegación en Firefox."
   ],
   "id": "e5f9026f79e2bd4e"
  },
  {
   "cell_type": "code",
   "id": "initial_id",
   "metadata": {
    "collapsed": true,
    "ExecuteTime": {
     "end_time": "2024-09-20T14:26:18.868623Z",
     "start_time": "2024-09-20T14:26:18.823083Z"
    }
   },
   "source": [
    "import time\n",
    "import json\n",
    "import base64\n",
    "import requests\n",
    "import xlsxwriter\n",
    "import pandas as pd\n",
    "from tqdm import tqdm\n",
    "from bs4 import BeautifulSoup\n",
    "from selenium import webdriver\n",
    "from selenium.webdriver.firefox.options import Options"
   ],
   "outputs": [],
   "execution_count": 14
  },
  {
   "metadata": {},
   "cell_type": "markdown",
   "source": [
    "### Funciones auxiliares\n",
    "\n",
    "Esta celda define varias funciones clave para el scraping:\n",
    "\n",
    "- `setup_firefox()`: Configura y devuelve un controlador de Firefox usando Selenium.\n",
    "- `extract_sku(url)`: Extrae el SKU del producto de la página web de Éxito, utilizando BeautifulSoup para analizar el HTML.\n",
    "- `code_cookies(regionId)`: Codifica las cookies en base64 para la región específica, lo que permite obtener precios según la ubicación.\n",
    "- `extract_prices(url, regionId)`: Realiza una solicitud API para obtener los precios de un producto dado el SKU y las cookies de la región."
   ],
   "id": "b2d119dadad8dc99"
  },
  {
   "metadata": {
    "ExecuteTime": {
     "end_time": "2024-09-20T14:43:05.168371Z",
     "start_time": "2024-09-20T14:43:05.156471Z"
    }
   },
   "cell_type": "code",
   "source": [
    "def setup_firefox():\n",
    "    options = Options()\n",
    "    driver = webdriver.Firefox(options=options)\n",
    "    return driver\n",
    "\n",
    "def extract_sku(url):\n",
    "    response = requests.get(url)\n",
    "    soup = BeautifulSoup(response.text, 'html.parser')\n",
    "    sku = soup.find('span', class_='product-title_product-title__specification__UTjNc').text.strip().split(':')[-1].strip()\n",
    "    return sku\n",
    "\n",
    "def code_cookies(regionId):\n",
    "    vtex_segment = {\"campaigns\":None,\"channel\":\"1\",\"priceTables\":None,\"regionId\":regionId,\"utm_campaign\":None,\"utm_source\":None,\"utmi_campaign\":None,\"currencyCode\":\"COP\",\"currencySymbol\":\"$\",\"countryCode\":\"COL\",\"cultureInfo\":\"es-CO\",\"admin_cultureInfo\":\"es-CO\",\"channelPrivacy\":\"public\"}\n",
    "    cadena_json = json.dumps(vtex_segment, separators=(',', ':')).encode('utf-8')\n",
    "    cadena_base64 = base64.b64encode(cadena_json).decode('utf-8')\n",
    "    return cadena_base64\n",
    "\n",
    "def extract_prices(url,regionId):\n",
    "    sku = extract_sku(url)\n",
    "    vtex_segment = code_cookies(regionId)\n",
    "    url = \"https://www.exito.com/api/product/getProductBySku\"\n",
    "    querystring = {\"skuid\":str(sku)}\n",
    "    payload = \"\"\n",
    "    headers = {\n",
    "    \"User-Agent\": \"Mozilla/5.0 (Windows NT 10.0; Win64; x64; rv:130.0) Gecko/20100101 Firefox/130.0\",\n",
    "    \"Accept\": \"*/*\",\n",
    "    \"Accept-Language\": \"en-US,en;q=0.5\",\n",
    "    \"Accept-Encoding\": \"gzip, deflate, br, zstd\",\n",
    "    \"Referer\": \"https://www.exito.com/arroz-diana-500-gr-479512/p\",\n",
    "    \"Connection\": \"keep-alive\",\n",
    "    \"Cookie\": f\"checkout.vtex.com=__ofid=297ea3777be34d8ea4bb2fd73dd5fcd6; checkout.vtex.com=__ofid=297ea3777be34d8ea4bb2fd73dd5fcd6; CheckoutOrderFormOwnership=; _gcl_au=1.1.319435687.1723231502; _ga_W617R65N74=GS1.1.1726842440.21.1.1726842712.59.0.0; _ga=GA1.1.731529654.1723231502; _ga_S44GR46V45=GS1.1.1726842440.20.1.1726842716.55.0.0; __rtbh.lid=%7B%22eventType%22%3A%22lid%22%2C%22id%22%3A%22qvamQVpmQk8pk7BHTsR6%22%7D; _clck=13400qt%7C2%7Cfpc%7C0%7C1682; _tt_enable_cookie=1; _ttp=ddgYMg63156BchtYDn0h6GerStG; _hjSessionUser_1473829=eyJpZCI6IjQ4ZWQxMzlkLWQyOWItNTE2ZS1iODI5LTg3MGZhMDIxYWFlZCIsImNyZWF0ZWQiOjE3MjMyMzE1MDUzNDQsImV4aXN0aW5nIjp0cnVlfQ==; _fbp=fb.1.1723231505471.95295616484517368; exTcIdE=%40%4022%40%4020sr2oAmSiWGXVyDF8d41g%7C1754767509779; VtexRCMacIdv7=20f22b1b-673a-4792-bfcc-4c49cc7e106d; vtex-search-anonymous=bfb5c8d6ce2a4c37b65b98d18d41004b; __gads=ID=f765979ac6db4d60:T=1723231552:RT=1726838101:S=ALNI_MZyFvtdHJruPY5JZAwiT96UKSY2BQ; __gpi=UID=00000ec197bec17a:T=1723231552:RT=1726838101:S=ALNI_MYQVonBO5rIKMX9K_LcNlJGB-4fjQ; __eoi=ID=80c3cb1484dd0bcc:T=1723231552:RT=1726838101:S=AA-Afja-zH6KHGfFXQOeyeIv7brQ; gbi_visitorId=clzn3li8500012a6cgscc1xrp; scarab.visitor=%2276548B39F2F49A1E%22; vtex_segment={vtex_segment}; _hjSession_1473829=eyJpZCI6ImFkZDliY2Y1LWQ3MGYtNDYzZC1iZGM5LTY2ZDNmZjMxMWFkYyIsImMiOjE3MjY4NDI0NDQ1NzcsInMiOjAsInIiOjAsInNiIjowLCJzciI6MCwic2UiOjAsImZzIjowLCJzcCI6MH0=; _clsk=1oouc27%7C1726842716035%7C1%7C0%7Cq.clarity.ms%2Fcollect\",\n",
    "}\n",
    "\n",
    "    response = requests.request(\"GET\", url, data=payload, headers=headers, params=querystring)\n",
    "    data = json.loads(response.text)\n",
    "    try:\n",
    "        regular_price = data[0]['items'][0]['sellers'][0]['commertialOffer']['ListPrice']\n",
    "    except:\n",
    "        regular_price = 'No disponible'\n",
    "    try:\n",
    "        promotional_price = data[0]['items'][0]['sellers'][0]['commertialOffer']['Price']\n",
    "    except:\n",
    "        promotional_price = regular_price\n",
    "    return promotional_price, regular_price"
   ],
   "id": "4bea987fe5505be1",
   "outputs": [],
   "execution_count": 46
  },
  {
   "metadata": {},
   "cell_type": "markdown",
   "source": [
    "### Lectura de archivo Excel\n",
    "\n",
    "Se lee el archivo Excel que contiene las hojas con las URLs de los productos. Cada hoja se guarda como un DataFrame en un diccionario, donde la clave es el nombre de la hoja y el valor es el DataFrame correspondiente.\n",
    "\n",
    "- `excel_filename`: Ruta al archivo Excel.\n",
    "- `pd.ExcelFile`: Función de pandas para leer el archivo Excel completo."
   ],
   "id": "a5f79030545376d8"
  },
  {
   "metadata": {
    "ExecuteTime": {
     "end_time": "2024-09-20T14:43:06.022868Z",
     "start_time": "2024-09-20T14:43:05.978811Z"
    }
   },
   "cell_type": "code",
   "source": [
    "excel_filename = '../data/Insuperables_W38.xlsx' \n",
    "xls = pd.ExcelFile(excel_filename)\n",
    "dfs = {sheet: pd.read_excel(xls, sheet_name=sheet) for sheet in xls.sheet_names}"
   ],
   "id": "fb855436c1ffce8c",
   "outputs": [],
   "execution_count": 47
  },
  {
   "metadata": {},
   "cell_type": "markdown",
   "source": [
    "### Definición de regiones y sus códigos\n",
    "\n",
    "En esta celda se define un diccionario con los códigos de las diferentes regiones de Colombia. Estos códigos serán usados posteriormente en las cookies para obtener los precios específicos según la ubicación.\n",
    "\n",
    "- `stores`: Diccionario donde las claves son los nombres de las regiones y los valores son los códigos base64 necesarios para las cookies."
   ],
   "id": "14b8ef3902697976"
  },
  {
   "metadata": {
    "ExecuteTime": {
     "end_time": "2024-09-20T14:44:05.123957Z",
     "start_time": "2024-09-20T14:44:05.116759Z"
    }
   },
   "cell_type": "code",
   "source": "stores = {'Bogota':'U1cjZXhpdG9jb2w7ZXhpdG9jb2wwOTM=','Pereira':'U1cjZXhpdG9jb2w7ZXhpdG9jb2wwNjM=', 'Barranquilla':'U1cjZXhpdG9jb2w7ZXhpdG9jb2wwNDE='} ",
   "id": "87738a4d568b5bd7",
   "outputs": [],
   "execution_count": 52
  },
  {
   "metadata": {},
   "cell_type": "markdown",
   "source": [
    "### Extracción de precios por URL\n",
    "\n",
    "Aquí se recorren todas las hojas del archivo Excel y se extraen los precios promocionales y regulares de cada URL. Los resultados de cada hoja se almacenan en un DataFrame:\n",
    "\n",
    "- Se itera sobre las URLs en cada hoja.\n",
    "- Se utiliza la función `extract_prices` para obtener los precios del producto.\n",
    "- Si ocurre algún error en la extracción, los precios se marcan como \"No disponible\".\n",
    "- Los resultados se guardan en un diccionario donde la clave es el nombre de la hoja."
   ],
   "id": "78594d9a06ab1f75"
  },
  {
   "metadata": {
    "ExecuteTime": {
     "end_time": "2024-09-20T15:46:24.525503Z",
     "start_time": "2024-09-20T14:46:20.978677Z"
    }
   },
   "cell_type": "code",
   "source": [
    "resultados = {}\n",
    "\n",
    "for sheet_name, df in dfs.items():\n",
    "    data_list = []\n",
    "    for url in tqdm(df['LINK'], desc=f\"Procesando URLs de {sheet_name}\"):\n",
    "        try:\n",
    "            promotional_price, regular_price = extract_prices(url, stores[sheet_name])\n",
    "            data_list.append({\n",
    "                'Url': url,\n",
    "                'Precio Promocional': promotional_price,\n",
    "                'Precio Regular': regular_price\n",
    "            })\n",
    "        except Exception as e:\n",
    "            #print(f\"Error procesando la URL {url}: {e}\")\n",
    "            data_list.append({\n",
    "                'Url': url,\n",
    "                'Precio Promocional': 'No disponible',\n",
    "                'Precio Regular': 'No disponible'\n",
    "            })\n",
    "    \n",
    "    resultados[sheet_name] = pd.DataFrame(data_list)"
   ],
   "id": "7b7d51282dc8eb3a",
   "outputs": [
    {
     "name": "stderr",
     "output_type": "stream",
     "text": [
      "Procesando URLs de Bogota: 100%|██████████| 712/712 [45:01<00:00,  3.79s/it]\n",
      "Procesando URLs de Barranquilla: 100%|██████████| 145/145 [09:10<00:00,  3.80s/it]\n",
      "Procesando URLs de Pereira: 100%|██████████| 90/90 [05:51<00:00,  3.91s/it]\n"
     ]
    }
   ],
   "execution_count": 56
  },
  {
   "metadata": {},
   "cell_type": "markdown",
   "source": [
    "### Guardar resultados en archivo Excel\n",
    "\n",
    "Los DataFrames generados en la celda anterior se guardan en un nuevo archivo Excel, con cada DataFrame en una hoja diferente. El archivo se guarda en la ruta especificada.\n",
    "\n",
    "- `pd.ExcelWriter`: Se utiliza para escribir múltiples DataFrames en diferentes hojas de un archivo Excel.\n",
    "- Se guardan los resultados con los precios extraídos."
   ],
   "id": "38d773536930916a"
  },
  {
   "metadata": {
    "ExecuteTime": {
     "end_time": "2024-09-20T15:46:43.409199Z",
     "start_time": "2024-09-20T15:46:43.260869Z"
    }
   },
   "cell_type": "code",
   "source": [
    "output_filename = '../outputs/resultados_precios.xlsx'\n",
    "with pd.ExcelWriter(output_filename, engine='xlsxwriter') as writer:\n",
    "    for sheet_name, result_df in resultados.items():\n",
    "        result_df.to_excel(writer, sheet_name=sheet_name, index=False)\n",
    "print(f\"Los resultados se han guardado en el archivo {output_filename}\")"
   ],
   "id": "1bc66bb16ee0d033",
   "outputs": [
    {
     "name": "stdout",
     "output_type": "stream",
     "text": [
      "Los resultados se han guardado en el archivo ../outputs/resultados_precios.xlsx\n"
     ]
    }
   ],
   "execution_count": 57
  }
 ],
 "metadata": {
  "kernelspec": {
   "display_name": "Python 3",
   "language": "python",
   "name": "python3"
  },
  "language_info": {
   "codemirror_mode": {
    "name": "ipython",
    "version": 2
   },
   "file_extension": ".py",
   "mimetype": "text/x-python",
   "name": "python",
   "nbconvert_exporter": "python",
   "pygments_lexer": "ipython2",
   "version": "2.7.6"
  }
 },
 "nbformat": 4,
 "nbformat_minor": 5
}
