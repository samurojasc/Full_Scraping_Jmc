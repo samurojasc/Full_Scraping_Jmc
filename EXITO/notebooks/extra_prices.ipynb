{
 "cells": [
  {
   "metadata": {
    "ExecuteTime": {
     "end_time": "2024-09-26T19:52:18.914008Z",
     "start_time": "2024-09-26T19:52:18.846433Z"
    }
   },
   "cell_type": "code",
   "source": [
    "%load_ext autoreload\n",
    "%autoreload 2"
   ],
   "id": "91acdaf4aabecfd7",
   "outputs": [],
   "execution_count": 1
  },
  {
   "metadata": {
    "ExecuteTime": {
     "end_time": "2024-09-26T19:52:49.361732Z",
     "start_time": "2024-09-26T19:52:47.794965Z"
    }
   },
   "cell_type": "code",
   "source": [
    "import sys \n",
    "import os\n",
    "project_path = os.path.abspath('../')\n",
    "sys.path.append(project_path)\n",
    "from src import run_extraction"
   ],
   "id": "836da906321a52c1",
   "outputs": [],
   "execution_count": 3
  },
  {
   "metadata": {
    "ExecuteTime": {
     "end_time": "2024-09-26T19:56:41.309935Z",
     "start_time": "2024-09-26T19:52:49.365714Z"
    }
   },
   "cell_type": "code",
   "source": [
    "city = 'Bogota'\n",
    "excel_dir = '../data/W39.xlsx'\n",
    "output_dir = '../outputs/W39.xlsx'\n",
    "column_name = 'link página web \\nen ÉXITO'\n",
    "run_extraction('Bogota',excel_dir, output_dir, column_name)"
   ],
   "id": "28d477d984ebfe4f",
   "outputs": [
    {
     "name": "stderr",
     "output_type": "stream",
     "text": [
      "Procesando URLs: 100%|██████████| 107/107 [03:51<00:00,  2.16s/it]"
     ]
    },
    {
     "name": "stdout",
     "output_type": "stream",
     "text": [
      "Datos guardados en ../outputs/W39.xlsx\n"
     ]
    },
    {
     "name": "stderr",
     "output_type": "stream",
     "text": [
      "\n"
     ]
    }
   ],
   "execution_count": 4
  },
  {
   "metadata": {},
   "cell_type": "code",
   "outputs": [],
   "execution_count": null,
   "source": "",
   "id": "29c5a53f38c73fb9"
  }
 ],
 "metadata": {
  "kernelspec": {
   "display_name": "Python 3",
   "language": "python",
   "name": "python3"
  },
  "language_info": {
   "codemirror_mode": {
    "name": "ipython",
    "version": 2
   },
   "file_extension": ".py",
   "mimetype": "text/x-python",
   "name": "python",
   "nbconvert_exporter": "python",
   "pygments_lexer": "ipython2",
   "version": "2.7.6"
  }
 },
 "nbformat": 4,
 "nbformat_minor": 5
}
