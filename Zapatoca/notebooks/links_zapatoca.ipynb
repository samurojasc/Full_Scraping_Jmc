{
 "cells": [
  {
   "cell_type": "code",
   "id": "initial_id",
   "metadata": {
    "collapsed": true,
    "ExecuteTime": {
     "end_time": "2024-09-23T13:50:26.539216Z",
     "start_time": "2024-09-23T13:50:23.422880Z"
    }
   },
   "source": [
    "import time\n",
    "import requests\n",
    "from selenium import webdriver\n",
    "from selenium.webdriver.firefox.service import Service\n",
    "from selenium.webdriver.firefox.options import Options\n",
    "from bs4 import BeautifulSoup\n",
    "from selenium.webdriver.common.by import By\n",
    "import pandas as pd"
   ],
   "outputs": [],
   "execution_count": 2
  },
  {
   "metadata": {
    "ExecuteTime": {
     "end_time": "2024-09-23T13:50:35.152992Z",
     "start_time": "2024-09-23T13:50:26.541305Z"
    }
   },
   "cell_type": "code",
   "source": [
    "from selenium.webdriver import DesiredCapabilities\n",
    "\n",
    "firefox_options = Options()\n",
    "firefox_options.add_argument('--headless')\n",
    "capabilities = DesiredCapabilities.FIREFOX.copy()\n",
    "capabilities['marionette'] = True\n",
    "driver = webdriver.Firefox( options=firefox_options)\n"
   ],
   "id": "7b28541941b0cccc",
   "outputs": [],
   "execution_count": 3
  },
  {
   "metadata": {
    "ExecuteTime": {
     "end_time": "2024-09-23T13:50:49.171783Z",
     "start_time": "2024-09-23T13:50:49.112568Z"
    }
   },
   "cell_type": "code",
   "source": [
    "archivo_excel = '../data/links_zapatoca.xlsx'\n",
    "df = pd.read_excel(archivo_excel)\n",
    "columna_links = df['LINK']\n",
    "\n",
    "links = columna_links.tolist()\n"
   ],
   "id": "2d4b431235f1f420",
   "outputs": [],
   "execution_count": 6
  },
  {
   "metadata": {
    "ExecuteTime": {
     "end_time": "2024-09-23T13:55:52.154005Z",
     "start_time": "2024-09-23T13:50:50.884214Z"
    }
   },
   "cell_type": "code",
   "source": [
    "products = []\n",
    "for link in links:\n",
    "    driver.get(link)\n",
    "\n",
    "    try:\n",
    "        product_name = driver.find_element(By.TAG_NAME, 'h1').text\n",
    "    except:\n",
    "        product_name = 'No Name'\n",
    "    \n",
    "    try:\n",
    "        suggested_price = driver.find_element(By.CSS_SELECTOR, '.suggested_price').text.strip()\n",
    "    except:\n",
    "        suggested_price = 'No disponible'\n",
    "    \n",
    "    try:\n",
    "        list_price = driver.find_element(By.ID, 'itempropprice').text.strip()\n",
    "    except:\n",
    "        list_price = suggested_price  # Usa el precio sugerido si no hay precio de lista\n",
    "    \n",
    "    if not suggested_price:\n",
    "        suggested_price = list_price\n",
    "    products.append({\n",
    "        'name': product_name,\n",
    "        'link': link,\n",
    "        'precio regular': suggested_price,\n",
    "        'precio promocional': list_price,\n",
    "    })\n",
    "    \n",
    "\n",
    "driver.quit()"
   ],
   "id": "bfb5f2b3c6bba73e",
   "outputs": [],
   "execution_count": 7
  },
  {
   "metadata": {
    "ExecuteTime": {
     "end_time": "2024-09-23T13:55:52.168748Z",
     "start_time": "2024-09-23T13:55:52.157473Z"
    }
   },
   "cell_type": "code",
   "source": "df = pd.DataFrame(products)",
   "id": "1eddda520e6ce3a",
   "outputs": [],
   "execution_count": 8
  },
  {
   "metadata": {
    "ExecuteTime": {
     "end_time": "2024-09-23T13:55:52.503620Z",
     "start_time": "2024-09-23T13:55:52.171746Z"
    }
   },
   "cell_type": "code",
   "source": "df.to_excel('../outputs/zapatoca_w38.xlsx', index = False)",
   "id": "57048b184f3b9e6c",
   "outputs": [],
   "execution_count": 9
  },
  {
   "metadata": {},
   "cell_type": "code",
   "outputs": [],
   "execution_count": null,
   "source": "",
   "id": "c2516fc5755c5696"
  }
 ],
 "metadata": {
  "kernelspec": {
   "display_name": "Python 3",
   "language": "python",
   "name": "python3"
  },
  "language_info": {
   "codemirror_mode": {
    "name": "ipython",
    "version": 2
   },
   "file_extension": ".py",
   "mimetype": "text/x-python",
   "name": "python",
   "nbconvert_exporter": "python",
   "pygments_lexer": "ipython2",
   "version": "2.7.6"
  }
 },
 "nbformat": 4,
 "nbformat_minor": 5
}
