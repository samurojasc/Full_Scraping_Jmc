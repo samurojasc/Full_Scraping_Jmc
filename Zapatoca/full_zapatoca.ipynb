{
 "cells": [
  {
   "cell_type": "code",
   "id": "initial_id",
   "metadata": {
    "collapsed": true,
    "ExecuteTime": {
     "end_time": "2024-08-06T20:32:37.120558Z",
     "start_time": "2024-08-06T20:32:37.112924Z"
    }
   },
   "source": [
    "import time\n",
    "import requests\n",
    "from selenium import webdriver\n",
    "from selenium.webdriver.firefox.service import Service\n",
    "from selenium.webdriver.firefox.options import Options\n",
    "from bs4 import BeautifulSoup\n",
    "from selenium.webdriver.common.by import By\n",
    "import pandas as pd"
   ],
   "outputs": [],
   "execution_count": 7
  },
  {
   "metadata": {
    "ExecuteTime": {
     "end_time": "2024-08-06T20:33:11.256677Z",
     "start_time": "2024-08-06T20:32:59.502356Z"
    }
   },
   "cell_type": "code",
   "source": [
    "firefox_options = Options()\n",
    "firefox_options.add_argument('--headless')\n",
    "\n",
    "driver = webdriver.Firefox(options=firefox_options)\n",
    "\n",
    "driver.get('https://www.mercadozapatoca.com')\n",
    "\n",
    "html = driver.page_source\n",
    "soup = BeautifulSoup(html, 'html.parser')"
   ],
   "id": "93cbcb6b84d11efe",
   "outputs": [],
   "execution_count": 9
  },
  {
   "metadata": {
    "ExecuteTime": {
     "end_time": "2024-08-06T20:33:12.915786Z",
     "start_time": "2024-08-06T20:33:12.870761Z"
    }
   },
   "cell_type": "code",
   "source": "categories = soup.select('li.has-children > ul > li > a')",
   "id": "9462b8ad738d5116",
   "outputs": [],
   "execution_count": 10
  },
  {
   "metadata": {
    "ExecuteTime": {
     "end_time": "2024-08-06T20:33:16.552284Z",
     "start_time": "2024-08-06T20:33:16.540339Z"
    }
   },
   "cell_type": "code",
   "source": [
    "url = 'https://www.mercadozapatoca.com'\n",
    "category_links = {}\n",
    "for category in categories:\n",
    "    category_name = category.text.strip()\n",
    "    category_url = category.get('href')\n",
    "    category_links[category_name] = url + category_url"
   ],
   "id": "916a47d3058ab79c",
   "outputs": [],
   "execution_count": 13
  },
  {
   "metadata": {
    "ExecuteTime": {
     "end_time": "2024-08-06T20:33:14.482653Z",
     "start_time": "2024-08-06T20:33:14.475249Z"
    }
   },
   "cell_type": "code",
   "source": "category_links = {'DESECHABLES':'https://www.mercadozapatoca.com/c/cigarrillos_desechables/desechables/'}",
   "id": "1b2793cf02efbece",
   "outputs": [],
   "execution_count": 12
  },
  {
   "metadata": {
    "jupyter": {
     "is_executing": true
    },
    "ExecuteTime": {
     "start_time": "2024-08-06T20:33:17.817223Z"
    }
   },
   "cell_type": "code",
   "source": [
    "products = []\n",
    "for category in category_links:\n",
    "    print(category)\n",
    "    category_url = category_links[category]\n",
    "    driver.get(category_url)\n",
    "\n",
    "    while True:\n",
    "        contenedor_cat = driver.find_element(By.CLASS_NAME, 'contenedorCat')\n",
    "        \n",
    "        product_elements = contenedor_cat.find_elements(By.CLASS_NAME, 'dpr_container')\n",
    "        \n",
    "        for product in product_elements:\n",
    "            try:\n",
    "                product_name = product.find_element(By.CLASS_NAME, 'dpr_product-name').text.strip()\n",
    "            except:\n",
    "                product_name = 'No Name'\n",
    "            \n",
    "            try:\n",
    "                product_link = product.find_element(By.CLASS_NAME, 'dpr_listname').get_attribute('href')\n",
    "            except:\n",
    "                product_link = 'No Link'\n",
    "            \n",
    "            try:\n",
    "                suggested_price = product.find_element(By.CLASS_NAME, 'dpr_suggested_price').text.strip()\n",
    "            except:\n",
    "                suggested_price = 'No Suggested Price'\n",
    "            \n",
    "            try:\n",
    "                list_price = product.find_element(By.CLASS_NAME, 'dpr_listprice').text.strip()\n",
    "            except:\n",
    "                list_price = suggested_price  # Usa el precio sugerido si no hay precio de lista\n",
    "            \n",
    "            try:\n",
    "                discount = product.find_element(By.CLASS_NAME, 'ribbon-thumb').text.strip()\n",
    "            except:\n",
    "                discount = 'No Discount'\n",
    "            \n",
    "            try:\n",
    "                in_stock = product.find_element(By.CLASS_NAME, 'dpr_in_stock').text.strip()\n",
    "            except:\n",
    "                in_stock = 'Out of Stock'\n",
    "            \n",
    "            products.append({\n",
    "                'name': product_name,\n",
    "                'link': product_link,\n",
    "                'suggested_price': suggested_price,\n",
    "                'list_price': list_price,\n",
    "                'discount': discount,\n",
    "                'stock': in_stock\n",
    "            })\n",
    "    \n",
    "        try:\n",
    "            next_button = driver.find_element(By.LINK_TEXT, 'Siguiente »')\n",
    "            next_button.click()\n",
    "            time.sleep(2) \n",
    "        except:\n",
    "            break\n",
    "driver.quit()"
   ],
   "id": "80c7e4784ecd38",
   "outputs": [
    {
     "name": "stdout",
     "output_type": "stream",
     "text": [
      "DESECHABLES\n",
      "ALUMINIOS\n",
      "BOLSAS\n",
      "CONTENEDOR Y PORTACOMIDA\n",
      "CUBIERTOS DESECHABLES\n",
      "PALOS Y PALILLOS MADERA\n",
      "PLATOS\n",
      "VASOS Y COPAS\n",
      "VINIPEL\n",
      "TOALLAS DE COCINA\n",
      "ACEITES\n",
      "CANOLA\n",
      "COCO\n",
      "GIRASOL\n",
      "OLIVA\n",
      "SOYA\n",
      "VEGETAL\n",
      "ADEREZOS\n",
      "PASTA DE TOMATE\n",
      "SALSA\n",
      "SALSA SAZONADORA\n",
      "SALSAS ESPECIALES\n",
      "VINAGRES\n",
      "ZUMO\n",
      "ARROZ\n"
     ]
    }
   ],
   "execution_count": null
  },
  {
   "metadata": {
    "jupyter": {
     "is_executing": true
    }
   },
   "cell_type": "code",
   "source": "df = pd.DataFrame(products)",
   "id": "97f34640fc8291b",
   "outputs": [],
   "execution_count": null
  },
  {
   "metadata": {
    "jupyter": {
     "is_executing": true
    }
   },
   "cell_type": "code",
   "source": "df.to_excel('productos_zapatoca.xlsx', index = False)",
   "id": "eb3fb0c0aa5aa29e",
   "outputs": [],
   "execution_count": null
  },
  {
   "metadata": {},
   "cell_type": "code",
   "outputs": [],
   "execution_count": null,
   "source": "",
   "id": "80c65e1037af9e98"
  }
 ],
 "metadata": {
  "kernelspec": {
   "display_name": "Python 3",
   "language": "python",
   "name": "python3"
  },
  "language_info": {
   "codemirror_mode": {
    "name": "ipython",
    "version": 2
   },
   "file_extension": ".py",
   "mimetype": "text/x-python",
   "name": "python",
   "nbconvert_exporter": "python",
   "pygments_lexer": "ipython2",
   "version": "2.7.6"
  }
 },
 "nbformat": 4,
 "nbformat_minor": 5
}
