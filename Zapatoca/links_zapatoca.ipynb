{
 "cells": [
  {
   "cell_type": "code",
   "id": "initial_id",
   "metadata": {
    "collapsed": true,
    "ExecuteTime": {
     "end_time": "2024-08-09T18:56:58.058415Z",
     "start_time": "2024-08-09T18:56:56.644404Z"
    }
   },
   "source": [
    "import time\n",
    "import requests\n",
    "from selenium import webdriver\n",
    "from selenium.webdriver.firefox.service import Service\n",
    "from selenium.webdriver.firefox.options import Options\n",
    "from bs4 import BeautifulSoup\n",
    "from selenium.webdriver.common.by import By\n",
    "import pandas as pd"
   ],
   "outputs": [],
   "execution_count": 1
  },
  {
   "metadata": {
    "ExecuteTime": {
     "end_time": "2024-08-09T18:57:04.154274Z",
     "start_time": "2024-08-09T18:56:58.058415Z"
    }
   },
   "cell_type": "code",
   "source": [
    "firefox_options = Options()\n",
    "firefox_options.add_argument('--headless')\n",
    "\n",
    "driver = webdriver.Firefox(options=firefox_options)"
   ],
   "id": "7b28541941b0cccc",
   "outputs": [],
   "execution_count": 2
  },
  {
   "metadata": {
    "ExecuteTime": {
     "end_time": "2024-08-09T18:57:04.481122Z",
     "start_time": "2024-08-09T18:57:04.154274Z"
    }
   },
   "cell_type": "code",
   "source": [
    "archivo_excel = 'links_zapatoca.xlsx'\n",
    "df = pd.read_excel(archivo_excel)\n",
    "\n",
    "columna_links = df['LINK']\n",
    "\n",
    "links = columna_links.tolist()\n"
   ],
   "id": "2d4b431235f1f420",
   "outputs": [],
   "execution_count": 3
  },
  {
   "metadata": {
    "ExecuteTime": {
     "end_time": "2024-08-09T18:57:47.977049Z",
     "start_time": "2024-08-09T18:57:04.481122Z"
    }
   },
   "cell_type": "code",
   "source": [
    "products = []\n",
    "for link in links:\n",
    "    driver.get(link)\n",
    "\n",
    "    try:\n",
    "        product_name = driver.find_element(By.TAG_NAME, 'h1').text\n",
    "    except:\n",
    "        product_name = 'No Name'\n",
    "    \n",
    "    try:\n",
    "        suggested_price = driver.find_element(By.CSS_SELECTOR, '.suggested_price').text.strip()\n",
    "    except:\n",
    "        suggested_price = 'No Suggested Price'\n",
    "    \n",
    "    try:\n",
    "        list_price = driver.find_element(By.ID, 'itempropprice').text.strip()\n",
    "    except:\n",
    "        list_price = suggested_price  # Usa el precio sugerido si no hay precio de lista\n",
    "    \n",
    "    products.append({\n",
    "        'name': product_name,\n",
    "        'link': link,\n",
    "        'suggested_price': suggested_price,\n",
    "        'list_price': list_price,\n",
    "    })\n",
    "    \n",
    "\n",
    "driver.quit()"
   ],
   "id": "bfb5f2b3c6bba73e",
   "outputs": [],
   "execution_count": 4
  },
  {
   "metadata": {
    "ExecuteTime": {
     "end_time": "2024-08-09T18:57:47.982100Z",
     "start_time": "2024-08-09T18:57:47.977049Z"
    }
   },
   "cell_type": "code",
   "source": "df = pd.DataFrame(products)",
   "id": "1eddda520e6ce3a",
   "outputs": [],
   "execution_count": 5
  },
  {
   "metadata": {
    "ExecuteTime": {
     "end_time": "2024-08-09T18:57:48.007203Z",
     "start_time": "2024-08-09T18:57:47.982619Z"
    }
   },
   "cell_type": "code",
   "source": "df.to_excel('productos_zapatoca_links.xlsx', index = False)",
   "id": "57048b184f3b9e6c",
   "outputs": [],
   "execution_count": 6
  },
  {
   "metadata": {},
   "cell_type": "code",
   "outputs": [],
   "execution_count": null,
   "source": "",
   "id": "330820ce57b8b741"
  }
 ],
 "metadata": {
  "kernelspec": {
   "display_name": "Python 3",
   "language": "python",
   "name": "python3"
  },
  "language_info": {
   "codemirror_mode": {
    "name": "ipython",
    "version": 2
   },
   "file_extension": ".py",
   "mimetype": "text/x-python",
   "name": "python",
   "nbconvert_exporter": "python",
   "pygments_lexer": "ipython2",
   "version": "2.7.6"
  }
 },
 "nbformat": 4,
 "nbformat_minor": 5
}
