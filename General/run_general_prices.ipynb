{
 "cells": [
  {
   "cell_type": "code",
   "id": "initial_id",
   "metadata": {
    "collapsed": true,
    "ExecuteTime": {
     "end_time": "2024-09-26T21:07:20.063337Z",
     "start_time": "2024-09-26T21:07:18.003870Z"
    }
   },
   "source": [
    "from src import *\n",
    "import pandas as pd"
   ],
   "outputs": [],
   "execution_count": 1
  },
  {
   "metadata": {
    "ExecuteTime": {
     "end_time": "2024-09-26T21:07:20.068222Z",
     "start_time": "2024-09-26T21:07:20.064323Z"
    }
   },
   "cell_type": "code",
   "source": "excel_input = './data/W39.xlsx'",
   "id": "bb80e7e3220d7e65",
   "outputs": [],
   "execution_count": 2
  },
  {
   "metadata": {
    "ExecuteTime": {
     "end_time": "2024-09-26T21:07:31.078084Z",
     "start_time": "2024-09-26T21:07:31.073734Z"
    }
   },
   "cell_type": "code",
   "source": [
    "extraction_functions = {\n",
    "    'Éxito': [run_extraction_exito, 'Bogota', 'link página web \\nen ÉXITO'],\n",
    "    'Zapatoca': [run_extraction_zapatoca,'link página web \\nen ZAPATOCA'],\n",
    "    'Olímpica': [run_extraction_olimpica, 'link página web \\nen OLIMPICA']\n",
    "}"
   ],
   "id": "871ec2efa771bfca",
   "outputs": [],
   "execution_count": 3
  },
  {
   "metadata": {
    "ExecuteTime": {
     "end_time": "2024-09-26T21:08:42.464478Z",
     "start_time": "2024-09-26T21:07:38.681188Z"
    }
   },
   "cell_type": "code",
   "source": [
    "excel_file = pd.ExcelFile(excel_input)\n",
    "results = {}\n",
    "output_excel = './outputs/W39_results_zapatoca.xlsx'\n",
    "# Crear un ExcelWriter para guardar los resultados\n",
    "with pd.ExcelWriter(output_excel) as writer:\n",
    "    # Iteramos sobre cada hoja\n",
    "    for sheet_name in excel_file.sheet_names:\n",
    "        # Verificamos si el nombre de la hoja está en el diccionario\n",
    "        if sheet_name in extraction_functions:\n",
    "            print(f\"Ejecutando extracción para: {sheet_name}\")\n",
    "            attempts = 0  # Contador de intentos\n",
    "            success = False  # Bandera de éxito\n",
    "            \n",
    "            while attempts < 3 and not success:  # Intentar hasta 3 veces\n",
    "                try:\n",
    "                    # Extraemos la función y sus argumentos\n",
    "                    func, *args = extraction_functions[sheet_name]\n",
    "                    # Llamamos a la función de extracción correspondiente con los argumentos\n",
    "                    # Asegúrate de que la función también acepte el DataFrame de la hoja\n",
    "                    df = excel_file.parse(sheet_name)  # Obtener el DataFrame de la hoja\n",
    "                    df_result = func(df, *args)  # Pasa los argumentos y el DataFrame\n",
    "                    \n",
    "                    # Guardamos el DataFrame en el diccionario con el nombre de la hoja como clave\n",
    "                    results[sheet_name] = df_result\n",
    "                    \n",
    "                    # Guardar inmediatamente el DataFrame en el archivo de salida\n",
    "                    df_result.to_excel(writer, sheet_name=sheet_name, index=False)  # Escribe cada DataFrame en una hoja\n",
    "                    success = True  # Marcar como éxito\n",
    "                    print(f\"Extracción exitosa para: {sheet_name}\")\n",
    "\n",
    "                except Exception as e:\n",
    "                    attempts += 1  # Incrementar contador de intentos\n",
    "                    print(f\"Error al procesar {sheet_name}: {e}. Intento {attempts} de 3.\")\n",
    "                    if attempts == 3:\n",
    "                        print(f\"Falló al extraer {sheet_name} después de 3 intentos.\")\n",
    "\n",
    "        else:\n",
    "            print(f\"No hay función de extracción definida para la hoja: {sheet_name}\")\n",
    "\n",
    "print(\"Extracción y guardado completados.\")"
   ],
   "id": "1b30546f81e06a86",
   "outputs": [
    {
     "name": "stdout",
     "output_type": "stream",
     "text": [
      "Ejecutando extracción para: Zapatoca\n",
      "Extracción exitosa para: Zapatoca\n",
      "Extracción y guardado completados.\n"
     ]
    }
   ],
   "execution_count": 4
  },
  {
   "metadata": {},
   "cell_type": "code",
   "outputs": [],
   "execution_count": null,
   "source": "",
   "id": "135e21fa66c7cb5c"
  }
 ],
 "metadata": {
  "kernelspec": {
   "display_name": "Python 3",
   "language": "python",
   "name": "python3"
  },
  "language_info": {
   "codemirror_mode": {
    "name": "ipython",
    "version": 2
   },
   "file_extension": ".py",
   "mimetype": "text/x-python",
   "name": "python",
   "nbconvert_exporter": "python",
   "pygments_lexer": "ipython2",
   "version": "2.7.6"
  }
 },
 "nbformat": 4,
 "nbformat_minor": 5
}
