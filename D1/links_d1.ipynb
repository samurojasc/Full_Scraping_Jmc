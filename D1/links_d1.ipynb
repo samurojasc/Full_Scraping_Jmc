{
 "cells": [
  {
   "cell_type": "code",
   "id": "initial_id",
   "metadata": {
    "collapsed": true,
    "ExecuteTime": {
     "end_time": "2024-08-26T14:59:36.697189Z",
     "start_time": "2024-08-26T14:59:35.922844Z"
    }
   },
   "source": [
    "from selenium import webdriver\n",
    "from selenium.webdriver.firefox.options import Options\n",
    "from selenium.webdriver.common.by import By\n",
    "import http.client\n",
    "import ssl\n",
    "import gzip\n",
    "from io import BytesIO\n",
    "import json\n",
    "import pandas as pd\n",
    "import re\n",
    "import openpyxl"
   ],
   "outputs": [],
   "execution_count": 1
  },
  {
   "metadata": {
    "ExecuteTime": {
     "end_time": "2024-08-26T14:59:41.613575Z",
     "start_time": "2024-08-26T14:59:36.697189Z"
    }
   },
   "cell_type": "code",
   "source": [
    "firefox_options = Options()\n",
    "firefox_options.add_argument('--headless')\n",
    "\n",
    "driver = webdriver.Firefox(options=firefox_options)"
   ],
   "id": "f0b64da8e0ad4218",
   "outputs": [],
   "execution_count": 2
  },
  {
   "metadata": {
    "ExecuteTime": {
     "end_time": "2024-08-26T15:00:33.292858Z",
     "start_time": "2024-08-26T15:00:33.244661Z"
    }
   },
   "cell_type": "code",
   "source": [
    "archivo_excel = 'links_d1.xlsx'\n",
    "df = pd.read_excel(archivo_excel)\n",
    "\n",
    "columna_links = df['LINK']\n",
    "\n",
    "links = columna_links.tolist()"
   ],
   "id": "6c90aff61378dd4b",
   "outputs": [],
   "execution_count": 3
  },
  {
   "metadata": {
    "ExecuteTime": {
     "end_time": "2024-08-26T15:00:38.186538Z",
     "start_time": "2024-08-26T15:00:38.181376Z"
    }
   },
   "cell_type": "code",
   "source": "stores = {\"Bogotá\":\"12165\",\"Medellin\":\"12310\",\"Barranquilla\":\"12341\",\"Bucaramanga\":\"12437\",\"Cali\":\"12490\"}",
   "id": "f8043592f7a125db",
   "outputs": [],
   "execution_count": 4
  },
  {
   "metadata": {
    "ExecuteTime": {
     "end_time": "2024-08-26T15:13:57.202754Z",
     "start_time": "2024-08-26T15:13:57.194482Z"
    }
   },
   "cell_type": "code",
   "source": [
    "def fetch_sku(url):\n",
    "    match = re.search(r'(\\d+)$', url)\n",
    "    \n",
    "    if match:\n",
    "        number = match.group(1)\n",
    "        return number\n",
    "    else:\n",
    "        return 0 \n",
    "    \n",
    "def fetch_product(sku, store):\n",
    "    conn = http.client.HTTPSConnection(\"nextgentheadless.instaleap.io\", context=ssl._create_unverified_context() )\n",
    "    \n",
    "    payload = json.dumps([\n",
    "      {\n",
    "        \"operationName\": \"GetProductsBySKU\",\n",
    "        \"variables\": {\n",
    "          \"getProductsBySkuInput\": {\n",
    "            \"clientId\": \"D1\",\n",
    "            \"skus\": [\n",
    "              sku\n",
    "            ],\n",
    "            \"storeReference\": store\n",
    "          }\n",
    "        },\n",
    "        \"query\": \"fragment CategoryFields on CategoryModel {\\n  active\\n  boost\\n  hasChildren\\n  categoryNamesPath\\n  isAvailableInHome\\n  level\\n  name\\n  path\\n  reference\\n  slug\\n  photoUrl\\n  imageUrl\\n  shortName\\n  isFeatured\\n  isAssociatedToCatalog\\n  __typename\\n}\\n\\nfragment CatalogProductTagModel on CatalogProductTagModel {\\n  description\\n  enabled\\n  textColor\\n  filter\\n  tagReference\\n  backgroundColor\\n  name\\n  __typename\\n}\\n\\nfragment CatalogProductFormatModel on CatalogProductFormatModel {\\n  format\\n  equivalence\\n  unitEquivalence\\n  clickMultiplier\\n  minQty\\n  maxQty\\n  __typename\\n}\\n\\nfragment Taxes on ProductTaxModel {\\n  taxId\\n  taxName\\n  taxType\\n  taxValue\\n  taxSubTotal\\n  __typename\\n}\\n\\nfragment PromotionCondition on PromotionCondition {\\n  quantity\\n  price\\n  priceBeforeTaxes\\n  taxTotal\\n  taxes {\\n    ...Taxes\\n    __typename\\n  }\\n  __typename\\n}\\n\\nfragment Promotion on Promotion {\\n  type\\n  isActive\\n  conditions {\\n    ...PromotionCondition\\n    __typename\\n  }\\n  description\\n  endDateTime\\n  startDateTime\\n  __typename\\n}\\n\\nfragment PromotedModel on PromotedModel {\\n  isPromoted\\n  onLoadBeacon\\n  onClickBeacon\\n  onViewBeacon\\n  onBasketChangeBeacon\\n  onWishlistBeacon\\n  __typename\\n}\\n\\nfragment SpecificationModel on SpecificationModel {\\n  title\\n  values {\\n    label\\n    value\\n    __typename\\n  }\\n  __typename\\n}\\n\\nfragment NutritionalDetailsInformation on NutritionalDetailsInformation {\\n  servingName\\n  servingSize\\n  servingUnit\\n  servingsPerPortion\\n  nutritionalTable {\\n    nutrientName\\n    quantity\\n    unit\\n    quantityPerPortion\\n    dailyValue\\n    __typename\\n  }\\n  bottomInfo\\n  __typename\\n}\\n\\nfragment CatalogProductModel on CatalogProductModel {\\n  name\\n  price\\n  photosUrl\\n  unit\\n  subUnit\\n  subQty\\n  description\\n  sku\\n  ean\\n  maxQty\\n  minQty\\n  clickMultiplier\\n  nutritionalDetails\\n  isActive\\n  slug\\n  brand\\n  stock\\n  securityStock\\n  boost\\n  isAvailable\\n  location\\n  priceBeforeTaxes\\n  taxTotal\\n  promotion {\\n    ...Promotion\\n    __typename\\n  }\\n  taxes {\\n    ...Taxes\\n    __typename\\n  }\\n  categories {\\n    ...CategoryFields\\n    __typename\\n  }\\n  categoriesData {\\n    ...CategoryFields\\n    __typename\\n  }\\n  formats {\\n    ...CatalogProductFormatModel\\n    __typename\\n  }\\n  tags {\\n    ...CatalogProductTagModel\\n    __typename\\n  }\\n  specifications {\\n    ...SpecificationModel\\n    __typename\\n  }\\n  promoted {\\n    ...PromotedModel\\n    __typename\\n  }\\n  score\\n  relatedProducts\\n  ingredients\\n  stockWarning\\n  nutritionalDetailsInformation {\\n    ...NutritionalDetailsInformation\\n    __typename\\n  }\\n  productVariants\\n  isVariant\\n  isDominant\\n  __typename\\n}\\n\\nquery GetProductsBySKU($getProductsBySkuInput: GetProductsBySKUInput!) {\\n  getProductsBySKU(getProductsBySKUInput: $getProductsBySkuInput) {\\n    ...CatalogProductModel\\n    __typename\\n  }\\n}\"\n",
    "      }\n",
    "    ])\n",
    "    headers = {\n",
    "      'User-Agent': 'Mozilla/5.0 (Windows NT 10.0; Win64; x64; rv:129.0) Gecko/20100101 Firefox/129.0',\n",
    "      'Accept': '*/*',\n",
    "      'Accept-Language': 'en-US,en;q=0.5',\n",
    "      'Accept-Encoding': 'gzip, deflate, br, zstd',\n",
    "      'content-type': 'application/json',\n",
    "      'apollographql-client-name': 'Ecommerce',\n",
    "      'apollographql-client-version': '3.50.3',\n",
    "      'token': '',\n",
    "      'dpl-api-key': '',\n",
    "      'sentry-trace': '608e3f3b7a8a47d99e05eddfafb2410c-a44a86329ba7dcaa-1',\n",
    "      'baggage': 'sentry-environment=production,sentry-release=3.50.3,sentry-public_key=b29a7fe3cf5f486b9520c5b3de53a5a7,sentry-trace_id=608e3f3b7a8a47d99e05eddfafb2410c,sentry-sample_rate=0.1,sentry-sampled=true',\n",
    "      'Origin': 'https://domicilios.tiendasd1.com',\n",
    "      'Connection': 'keep-alive',\n",
    "      'Referer': 'https://domicilios.tiendasd1.com/',\n",
    "      'Sec-Fetch-Dest': 'empty',\n",
    "      'Sec-Fetch-Mode': 'cors',\n",
    "      'Sec-Fetch-Site': 'cross-site',\n",
    "      'Priority': 'u=4',\n",
    "      'TE': 'trailers'\n",
    "    }\n",
    "\n",
    "\n",
    "\n",
    "    conn.request(\"POST\", \"/api/v3\", payload, headers)\n",
    "    \n",
    "    res = conn.getresponse()\n",
    "    data = res.read()\n",
    "    if res.getheader('Content-Encoding') == 'gzip':\n",
    "        data = gzip.GzipFile(fileobj=BytesIO(data)).read()\n",
    "\n",
    "    data = json.loads(data.decode('utf-8'))\n",
    "    \n",
    "    conn.close()\n",
    "\n",
    "    return data\n",
    "\n",
    "def fetch_products(urls,store):\n",
    "    links = []\n",
    "    names = []\n",
    "    prices_without_discount = []\n",
    "    \n",
    "    for url in urls:\n",
    "        try:\n",
    "            data = fetch_product(fetch_sku(url),store)\n",
    "\n",
    "            product = data[0]['data']['getProductsBySKU'][0]\n",
    "                \n",
    "            links.extend([url])\n",
    "            names.extend([product['name']])\n",
    "            prices_without_discount.extend([product['priceBeforeTaxes']])\n",
    "        except:\n",
    "            links.extend([url])\n",
    "            names.extend(['no disponible'])\n",
    "            prices_without_discount.extend(['no disponible'])\n",
    "            print(f\"error en {url}\")\n",
    "\n",
    "    df = pd.DataFrame({\n",
    "            'Link': links,\n",
    "            'Name': names,\n",
    "            'Regular Price': prices_without_discount,\n",
    "            'Promotional Price': prices_without_discount\n",
    "    })\n",
    "    \n",
    "    return df\n"
   ],
   "id": "481fb0f28834ae0b",
   "outputs": [],
   "execution_count": 23
  },
  {
   "metadata": {
    "ExecuteTime": {
     "end_time": "2024-08-26T15:24:11.340646Z",
     "start_time": "2024-08-26T15:19:48.411982Z"
    }
   },
   "cell_type": "code",
   "source": "df = fetch_products(links, stores['Bogotá'])",
   "id": "9e9a074eb218ed4e",
   "outputs": [
    {
     "name": "stdout",
     "output_type": "stream",
     "text": [
      "error en https://domicilios.tiendasd1.com/p/barra-de-chocolate-con-mani-jumbo-40-g-12001688\n",
      "error en https://domicilios.tiendasd1.com/p/zucaritas-kelloggs-200-g-12002711\n",
      "error en https://domicilios.tiendasd1.com/p/chocolatina-jet-x-10-u-12004888\n",
      "error en https://domicilios.tiendasd1.com/p/salchicha-tradicional-viande-450-grs-12000082\n",
      "error en https://domicilios.tiendasd1.com/p/salsa-bolonesa-deliziare-400-g-12000451\n",
      "error en https://domicilios.tiendasd1.com/p/crema-de-leche-larga-vida-latti-200-ml-12001250\n",
      "error en https://domicilios.tiendasd1.com/p/doritos-familiar-175-grs-12002003\n",
      "error en https://domicilios.tiendasd1.com/p/refrescos-surtidos-frutas-6-und-12000297 \n",
      "error en https://domicilios.tiendasd1.com/p/jabon-de-manos-liquido-natural-feeling-500-ml-12000163\n",
      "error en https://domicilios.tiendasd1.com/p/copitos-little-angels-100-und-12000964\n",
      "error en https://domicilios.tiendasd1.com/p/salchicha-perro-americana-big-bob-430-g-12001607\n",
      "error en https://domicilios.tiendasd1.com/p/galleta-oreo-6-pq-216-g-12004310\n",
      "error en https://domicilios.tiendasd1.com/p/mascarilla-capilar-reparadora-kolors-250-ml-12001740\n",
      "error en https://domicilios.tiendasd1.com/p/cerveza-coronita-6und-210-ml-12005756\n",
      "error en https://domicilios.tiendasd1.com/p/acondicionador-kolors-300-ml-12000788\n",
      "error en https://domicilios.tiendasd1.com/p/crema-para-peinar-kolors-250-ml-12004350\n",
      "error en https://domicilios.tiendasd1.com/p/barquillos-surtidos-nuzart-145-gr-12004121\n",
      "error en https://domicilios.tiendasd1.com/p/aceituna-despimien-bolsa-ainoa-180-gr-12000914\n",
      "error en https://domicilios.tiendasd1.com/p/shampoo-2-en-1-kolors-400-ml-12000717\n",
      "error en https://domicilios.tiendasd1.com/p/agua-sin-gas-omi-5000-ml-12001022\n",
      "error en https://domicilios.tiendasd1.com/p/mix-de-verduras-cooltivo-500-g-12002532\n",
      "error en https://domicilios.tiendasd1.com/p/rubor-iluminador-usk-12003831\n",
      "error en https://domicilios.tiendasd1.com/p/agua-sin-gas-omi-5000-ml-12001022\n",
      "error en https://domicilios.tiendasd1.com/p/kumis-latti-6-und-1200-ml-12000496\n",
      "error en https://domicilios.tiendasd1.com/p/tomates-enteros-pelados-deliziare-400-g-12002575\n",
      "error en https://domicilios.tiendasd1.com/p/vitamina-c-en-tabletas-masticable-cebion-8-und-12002915\n",
      "error en https://domicilios.tiendasd1.com/p/hueso-de-carnaza-para-perros-magic-friends-3-und-12000579\n",
      "error en https://domicilios.tiendasd1.com/p/cepillo-de-dientes-adultos-suave-bucarine-1-und-12000267\n",
      "error en https://domicilios.tiendasd1.com/p/sopa-crema-de-pollo-rico-45-gr-12003454\n",
      "error en https://domicilios.tiendasd1.com/p/sopa-ajiaco-rico-45-gr-12003453\n",
      "error en https://domicilios.tiendasd1.com/p/yuquitas-don-villa-135-gr-12004866\n",
      "error en https://domicilios.tiendasd1.com/p/galleta-happy-cream-vainilla-6-pq-204-g-12001064\n",
      "error en https://domicilios.tiendasd1.com/p/limpiador-en-gel-brilla-king-1l-12003502\n",
      "error en https://domicilios.tiendasd1.com/p/alimento-para-perros-donkan-x-2-kg-12005336\n",
      "error en https://domicilios.tiendasd1.com/p/chicharron-de-cerdo-kythos-110gr-12002323\n",
      "error en https://domicilios.tiendasd1.com/p/desinfectante-de-aire-y-superficies-aerosol-250-ml-12003444\n",
      "error en https://domicilios.tiendasd1.com/p/crema-de-leche-larga-vida-latti-200-ml-12001250\n",
      "error en https://domicilios.tiendasd1.com/p/bebida-lactea-larga-vida-latti-6-und-1200-ml-12000373\n",
      "error en https://domicilios.tiendasd1.com/p/jamon-cunit-x-400-g-12005947\n",
      "error en https://domicilios.tiendasd1.com/p/super-salchicha-cunit-x-500-g-12005946\n",
      "error en https://domicilios.tiendasd1.com/p/salchicha-cazadora-cunit-x-500-g-12005948\n",
      "error en https://domicilios.tiendasd1.com/p/panela-pastilla-500-g-12006228\n",
      "error en https://domicilios.tiendasd1.com/p/panela-redonda-830-g-12000518\n",
      "error en https://domicilios.tiendasd1.com/p/mantequilla-con-sal-alpina-125-grs-12000337\n",
      "error en https://domicilios.tiendasd1.com/p/chicharron-de-cerdo-don-chicharron-35g-12004663\n",
      "error en https://domicilios.tiendasd1.com/p/piernas-de-pollo-fiesta-x-700-g-12004113\n",
      "error en https://domicilios.tiendasd1.com/p/maiz-congelado-x-500-gr-12005604\n",
      "error en https://domicilios.tiendasd1.com/p/arveja-verde-congelada-500-g-12006025\n",
      "error en https://domicilios.tiendasd1.com/p/jabon-liquido-avena-y-miel-1000-ml-12004086\n",
      "error en https://domicilios.tiendasd1.com/p/sopa-crema-de-pollo-rico-45-gr-12003454\n",
      "error en https://domicilios.tiendasd1.com/p/frijol-lima-granipack-500-g-12004974\n",
      "error en https://domicilios.tiendasd1.com/p/frijol-zaragoza-el-estio-500-g-12002543\n",
      "error en https://domicilios.tiendasd1.com/p/panela-redonda-1000-grs-12000120\n",
      "error en https://domicilios.tiendasd1.com/p/panela-fraccionada-1000-gr-12000121\n",
      "error en https://domicilios.tiendasd1.com/p/frijol-duba-rojo-500-g-12004699\n",
      "error en https://domicilios.tiendasd1.com/p/paleta-de-crema-kulfi-surtida-4-und-45-g-12004552\n",
      "error en https://domicilios.tiendasd1.com/p/palomitas-para-microondas-sabor-caramelo-kythos-100-g-12001567\n",
      "error en https://domicilios.tiendasd1.com/p/lonchera-surtida-fritolay-12-un-266-gr-12002701\n",
      "error en https://domicilios.tiendasd1.com/p/ramen-sabor-a-carne-ajinomen-x-80-g-12005939\n"
     ]
    }
   ],
   "execution_count": 26
  },
  {
   "metadata": {
    "ExecuteTime": {
     "end_time": "2024-08-26T15:24:11.382184Z",
     "start_time": "2024-08-26T15:24:11.344704Z"
    }
   },
   "cell_type": "code",
   "source": "df.to_excel('productos_d1_links.xlsx', index=False)",
   "id": "17123605cf36170b",
   "outputs": [],
   "execution_count": 27
  },
  {
   "metadata": {},
   "cell_type": "code",
   "outputs": [],
   "execution_count": null,
   "source": "",
   "id": "3bb979f28721fc33"
  }
 ],
 "metadata": {
  "kernelspec": {
   "display_name": "Python 3",
   "language": "python",
   "name": "python3"
  },
  "language_info": {
   "codemirror_mode": {
    "name": "ipython",
    "version": 2
   },
   "file_extension": ".py",
   "mimetype": "text/x-python",
   "name": "python",
   "nbconvert_exporter": "python",
   "pygments_lexer": "ipython2",
   "version": "2.7.6"
  }
 },
 "nbformat": 4,
 "nbformat_minor": 5
}
