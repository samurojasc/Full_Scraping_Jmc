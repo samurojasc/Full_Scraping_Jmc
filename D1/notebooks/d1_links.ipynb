{
 "cells": [
  {
   "cell_type": "code",
   "id": "initial_id",
   "metadata": {
    "collapsed": true,
    "ExecuteTime": {
     "end_time": "2024-09-20T18:35:54.221238Z",
     "start_time": "2024-09-20T18:35:53.623954Z"
    }
   },
   "source": [
    "from selenium import webdriver\n",
    "from selenium.webdriver.firefox.options import Options\n",
    "from selenium.webdriver.common.by import By\n",
    "import http.client\n",
    "import ssl\n",
    "import gzip\n",
    "from io import BytesIO\n",
    "import json\n",
    "import pandas as pd\n",
    "import re\n",
    "import openpyxl"
   ],
   "outputs": [],
   "execution_count": 1
  },
  {
   "metadata": {
    "ExecuteTime": {
     "end_time": "2024-09-20T18:36:02.644202Z",
     "start_time": "2024-09-20T18:35:57.580138Z"
    }
   },
   "cell_type": "code",
   "source": [
    "firefox_options = Options()\n",
    "firefox_options.add_argument('--headless')\n",
    "\n",
    "driver = webdriver.Firefox(options=firefox_options)"
   ],
   "id": "23b8b995a7633337",
   "outputs": [],
   "execution_count": 2
  },
  {
   "metadata": {
    "ExecuteTime": {
     "end_time": "2024-09-20T18:36:18.450234Z",
     "start_time": "2024-09-20T18:36:18.434281Z"
    }
   },
   "cell_type": "code",
   "source": [
    "archivo_excel = '../data/D1_2009.xlsx'\n",
    "df = pd.read_excel(archivo_excel)\n",
    "columna_links = df['link página web \\nen D1']\n",
    "\n",
    "links = columna_links.tolist()"
   ],
   "id": "b9596dda4308ab82",
   "outputs": [],
   "execution_count": 5
  },
  {
   "metadata": {
    "ExecuteTime": {
     "end_time": "2024-09-20T18:36:23.102157Z",
     "start_time": "2024-09-20T18:36:23.098841Z"
    }
   },
   "cell_type": "code",
   "source": "stores = {\"Bogotá\":\"12165\",\"Medellin\":\"12310\",\"Barranquilla\":\"12341\",\"Bucaramanga\":\"12437\",\"Cali\":\"12490\"}",
   "id": "41de1695c0f8eb20",
   "outputs": [],
   "execution_count": 6
  },
  {
   "metadata": {
    "ExecuteTime": {
     "end_time": "2024-09-20T18:36:29.220484Z",
     "start_time": "2024-09-20T18:36:29.213195Z"
    }
   },
   "cell_type": "code",
   "source": [
    "def fetch_sku(url):\n",
    "    match = re.search(r'(\\d+)$', url)\n",
    "    \n",
    "    if match:\n",
    "        number = match.group(1)\n",
    "        return number\n",
    "    else:\n",
    "        return 0 \n",
    "    \n",
    "def fetch_product(sku, store):\n",
    "    conn = http.client.HTTPSConnection(\"nextgentheadless.instaleap.io\", context=ssl._create_unverified_context() )\n",
    "    \n",
    "    payload = json.dumps([\n",
    "      {\n",
    "        \"operationName\": \"GetProductsBySKU\",\n",
    "        \"variables\": {\n",
    "          \"getProductsBySkuInput\": {\n",
    "            \"clientId\": \"D1\",\n",
    "            \"skus\": [\n",
    "              sku\n",
    "            ],\n",
    "            \"storeReference\": store\n",
    "          }\n",
    "        },\n",
    "        \"query\": \"fragment CategoryFields on CategoryModel {\\n  active\\n  boost\\n  hasChildren\\n  categoryNamesPath\\n  isAvailableInHome\\n  level\\n  name\\n  path\\n  reference\\n  slug\\n  photoUrl\\n  imageUrl\\n  shortName\\n  isFeatured\\n  isAssociatedToCatalog\\n  __typename\\n}\\n\\nfragment CatalogProductTagModel on CatalogProductTagModel {\\n  description\\n  enabled\\n  textColor\\n  filter\\n  tagReference\\n  backgroundColor\\n  name\\n  __typename\\n}\\n\\nfragment CatalogProductFormatModel on CatalogProductFormatModel {\\n  format\\n  equivalence\\n  unitEquivalence\\n  clickMultiplier\\n  minQty\\n  maxQty\\n  __typename\\n}\\n\\nfragment Taxes on ProductTaxModel {\\n  taxId\\n  taxName\\n  taxType\\n  taxValue\\n  taxSubTotal\\n  __typename\\n}\\n\\nfragment PromotionCondition on PromotionCondition {\\n  quantity\\n  price\\n  priceBeforeTaxes\\n  taxTotal\\n  taxes {\\n    ...Taxes\\n    __typename\\n  }\\n  __typename\\n}\\n\\nfragment Promotion on Promotion {\\n  type\\n  isActive\\n  conditions {\\n    ...PromotionCondition\\n    __typename\\n  }\\n  description\\n  endDateTime\\n  startDateTime\\n  __typename\\n}\\n\\nfragment PromotedModel on PromotedModel {\\n  isPromoted\\n  onLoadBeacon\\n  onClickBeacon\\n  onViewBeacon\\n  onBasketChangeBeacon\\n  onWishlistBeacon\\n  __typename\\n}\\n\\nfragment SpecificationModel on SpecificationModel {\\n  title\\n  values {\\n    label\\n    value\\n    __typename\\n  }\\n  __typename\\n}\\n\\nfragment NutritionalDetailsInformation on NutritionalDetailsInformation {\\n  servingName\\n  servingSize\\n  servingUnit\\n  servingsPerPortion\\n  nutritionalTable {\\n    nutrientName\\n    quantity\\n    unit\\n    quantityPerPortion\\n    dailyValue\\n    __typename\\n  }\\n  bottomInfo\\n  __typename\\n}\\n\\nfragment CatalogProductModel on CatalogProductModel {\\n  name\\n  price\\n  photosUrl\\n  unit\\n  subUnit\\n  subQty\\n  description\\n  sku\\n  ean\\n  maxQty\\n  minQty\\n  clickMultiplier\\n  nutritionalDetails\\n  isActive\\n  slug\\n  brand\\n  stock\\n  securityStock\\n  boost\\n  isAvailable\\n  location\\n  priceBeforeTaxes\\n  taxTotal\\n  promotion {\\n    ...Promotion\\n    __typename\\n  }\\n  taxes {\\n    ...Taxes\\n    __typename\\n  }\\n  categories {\\n    ...CategoryFields\\n    __typename\\n  }\\n  categoriesData {\\n    ...CategoryFields\\n    __typename\\n  }\\n  formats {\\n    ...CatalogProductFormatModel\\n    __typename\\n  }\\n  tags {\\n    ...CatalogProductTagModel\\n    __typename\\n  }\\n  specifications {\\n    ...SpecificationModel\\n    __typename\\n  }\\n  promoted {\\n    ...PromotedModel\\n    __typename\\n  }\\n  score\\n  relatedProducts\\n  ingredients\\n  stockWarning\\n  nutritionalDetailsInformation {\\n    ...NutritionalDetailsInformation\\n    __typename\\n  }\\n  productVariants\\n  isVariant\\n  isDominant\\n  __typename\\n}\\n\\nquery GetProductsBySKU($getProductsBySkuInput: GetProductsBySKUInput!) {\\n  getProductsBySKU(getProductsBySKUInput: $getProductsBySkuInput) {\\n    ...CatalogProductModel\\n    __typename\\n  }\\n}\"\n",
    "      }\n",
    "    ])\n",
    "    headers = {\n",
    "      'User-Agent': 'Mozilla/5.0 (Windows NT 10.0; Win64; x64; rv:129.0) Gecko/20100101 Firefox/129.0',\n",
    "      'Accept': '*/*',\n",
    "      'Accept-Language': 'en-US,en;q=0.5',\n",
    "      'Accept-Encoding': 'gzip, deflate, br, zstd',\n",
    "      'content-type': 'application/json',\n",
    "      'apollographql-client-name': 'Ecommerce',\n",
    "      'apollographql-client-version': '3.50.3',\n",
    "      'token': '',\n",
    "      'dpl-api-key': '',\n",
    "      'sentry-trace': '608e3f3b7a8a47d99e05eddfafb2410c-a44a86329ba7dcaa-1',\n",
    "      'baggage': 'sentry-environment=production,sentry-release=3.50.3,sentry-public_key=b29a7fe3cf5f486b9520c5b3de53a5a7,sentry-trace_id=608e3f3b7a8a47d99e05eddfafb2410c,sentry-sample_rate=0.1,sentry-sampled=true',\n",
    "      'Origin': 'https://domicilios.tiendasd1.com',\n",
    "      'Connection': 'keep-alive',\n",
    "      'Referer': 'https://domicilios.tiendasd1.com/',\n",
    "      'Sec-Fetch-Dest': 'empty',\n",
    "      'Sec-Fetch-Mode': 'cors',\n",
    "      'Sec-Fetch-Site': 'cross-site',\n",
    "      'Priority': 'u=4',\n",
    "      'TE': 'trailers'\n",
    "    }\n",
    "\n",
    "\n",
    "\n",
    "    conn.request(\"POST\", \"/api/v3\", payload, headers)\n",
    "    \n",
    "    res = conn.getresponse()\n",
    "    data = res.read()\n",
    "    if res.getheader('Content-Encoding') == 'gzip':\n",
    "        data = gzip.GzipFile(fileobj=BytesIO(data)).read()\n",
    "\n",
    "    data = json.loads(data.decode('utf-8'))\n",
    "    \n",
    "    conn.close()\n",
    "\n",
    "    return data\n",
    "\n",
    "def fetch_products(urls,store):\n",
    "    links = []\n",
    "    names = []\n",
    "    prices_without_discount = []\n",
    "    \n",
    "    for url in urls:\n",
    "        try:\n",
    "            data = fetch_product(fetch_sku(url),store)\n",
    "\n",
    "            product = data[0]['data']['getProductsBySKU'][0]\n",
    "                \n",
    "            links.extend([url])\n",
    "            names.extend([product['name']])\n",
    "            prices_without_discount.extend([product['priceBeforeTaxes']])\n",
    "        except:\n",
    "            links.extend([url])\n",
    "            names.extend(['no disponible'])\n",
    "            prices_without_discount.extend(['no disponible'])\n",
    "            print(f\"error en {url}\")\n",
    "\n",
    "    df = pd.DataFrame({\n",
    "            'Link': links,\n",
    "            'Name': names,\n",
    "            'Regular Price': prices_without_discount,\n",
    "            'Promotional Price': prices_without_discount\n",
    "    })\n",
    "    \n",
    "    return df\n"
   ],
   "id": "4357dafa9b2f9b0d",
   "outputs": [],
   "execution_count": 7
  },
  {
   "metadata": {
    "ExecuteTime": {
     "end_time": "2024-09-20T18:36:37.673569Z",
     "start_time": "2024-09-20T18:36:33.152770Z"
    }
   },
   "cell_type": "code",
   "source": "df = fetch_products(links, stores['Bogotá'])",
   "id": "88dd533e5d79147d",
   "outputs": [
    {
     "name": "stdout",
     "output_type": "stream",
     "text": [
      "error en https://domicilios.tiendasd1.com/p/conserva-de-pescado-en-tinapa-155-g-neto-12003885\n",
      "error en https://domicilios.tiendasd1.com/search?name=ZUCARITAS\n",
      "error en https://domicilios.tiendasd1.com/search?name=GASEOSA%20COLOMBIANA\n"
     ]
    }
   ],
   "execution_count": 8
  },
  {
   "metadata": {
    "ExecuteTime": {
     "end_time": "2024-09-20T18:36:49.116536Z",
     "start_time": "2024-09-20T18:36:49.020783Z"
    }
   },
   "cell_type": "code",
   "source": "df.to_excel('../outputs/productos_d1_links.xlsx', index=False)",
   "id": "66082a2cdda83a44",
   "outputs": [],
   "execution_count": 9
  }
 ],
 "metadata": {
  "kernelspec": {
   "display_name": "Python 3",
   "language": "python",
   "name": "python3"
  },
  "language_info": {
   "codemirror_mode": {
    "name": "ipython",
    "version": 2
   },
   "file_extension": ".py",
   "mimetype": "text/x-python",
   "name": "python",
   "nbconvert_exporter": "python",
   "pygments_lexer": "ipython2",
   "version": "2.7.6"
  }
 },
 "nbformat": 4,
 "nbformat_minor": 5
}
