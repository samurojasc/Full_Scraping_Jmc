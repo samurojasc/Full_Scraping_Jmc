{
 "cells": [
  {
   "cell_type": "code",
   "id": "initial_id",
   "metadata": {
    "collapsed": true,
    "ExecuteTime": {
     "end_time": "2024-09-20T18:32:24.017594Z",
     "start_time": "2024-09-20T18:32:23.447012Z"
    }
   },
   "source": [
    "from selenium import webdriver\n",
    "from selenium.webdriver.firefox.options import Options\n",
    "from selenium.webdriver.common.by import By\n",
    "import http.client\n",
    "import ssl\n",
    "import gzip\n",
    "from io import BytesIO\n",
    "import json\n",
    "import pandas as pd\n",
    "import re\n",
    "import openpyxl"
   ],
   "outputs": [],
   "execution_count": 1
  },
  {
   "metadata": {
    "ExecuteTime": {
     "end_time": "2024-09-20T18:32:28.882895Z",
     "start_time": "2024-09-20T18:32:24.018593Z"
    }
   },
   "cell_type": "code",
   "source": [
    "firefox_options = Options()\n",
    "firefox_options.add_argument('--headless')\n",
    "\n",
    "driver = webdriver.Firefox(options=firefox_options)"
   ],
   "id": "f0b64da8e0ad4218",
   "outputs": [],
   "execution_count": 2
  },
  {
   "metadata": {
    "ExecuteTime": {
     "end_time": "2024-09-20T18:32:29.521940Z",
     "start_time": "2024-09-20T18:32:28.883893Z"
    }
   },
   "cell_type": "code",
   "source": [
    "archivo_excel = '../data/D1_2009.xlsx'\n",
    "df = pd.read_excel(archivo_excel)\n",
    "print(df.columns)\n",
    "columna_links = df['link página web \\nen ZAPATOCA']\n",
    "\n",
    "links = columna_links.tolist()"
   ],
   "id": "6c90aff61378dd4b",
   "outputs": [
    {
     "ename": "KeyError",
     "evalue": "'link página web \\nen ZAPATOCA'",
     "output_type": "error",
     "traceback": [
      "\u001B[1;31m---------------------------------------------------------------------------\u001B[0m",
      "\u001B[1;31mKeyError\u001B[0m                                  Traceback (most recent call last)",
      "File \u001B[1;32m~\\PycharmProjects\\JMC - SCRAPING\\.venv\\Lib\\site-packages\\pandas\\core\\indexes\\base.py:3805\u001B[0m, in \u001B[0;36mIndex.get_loc\u001B[1;34m(self, key)\u001B[0m\n\u001B[0;32m   3804\u001B[0m \u001B[38;5;28;01mtry\u001B[39;00m:\n\u001B[1;32m-> 3805\u001B[0m     \u001B[38;5;28;01mreturn\u001B[39;00m \u001B[38;5;28;43mself\u001B[39;49m\u001B[38;5;241;43m.\u001B[39;49m\u001B[43m_engine\u001B[49m\u001B[38;5;241;43m.\u001B[39;49m\u001B[43mget_loc\u001B[49m\u001B[43m(\u001B[49m\u001B[43mcasted_key\u001B[49m\u001B[43m)\u001B[49m\n\u001B[0;32m   3806\u001B[0m \u001B[38;5;28;01mexcept\u001B[39;00m \u001B[38;5;167;01mKeyError\u001B[39;00m \u001B[38;5;28;01mas\u001B[39;00m err:\n",
      "File \u001B[1;32mindex.pyx:167\u001B[0m, in \u001B[0;36mpandas._libs.index.IndexEngine.get_loc\u001B[1;34m()\u001B[0m\n",
      "File \u001B[1;32mindex.pyx:196\u001B[0m, in \u001B[0;36mpandas._libs.index.IndexEngine.get_loc\u001B[1;34m()\u001B[0m\n",
      "File \u001B[1;32mpandas\\\\_libs\\\\hashtable_class_helper.pxi:7081\u001B[0m, in \u001B[0;36mpandas._libs.hashtable.PyObjectHashTable.get_item\u001B[1;34m()\u001B[0m\n",
      "File \u001B[1;32mpandas\\\\_libs\\\\hashtable_class_helper.pxi:7089\u001B[0m, in \u001B[0;36mpandas._libs.hashtable.PyObjectHashTable.get_item\u001B[1;34m()\u001B[0m\n",
      "\u001B[1;31mKeyError\u001B[0m: 'link página web \\nen ZAPATOCA'",
      "\nThe above exception was the direct cause of the following exception:\n",
      "\u001B[1;31mKeyError\u001B[0m                                  Traceback (most recent call last)",
      "Cell \u001B[1;32mIn[3], line 4\u001B[0m\n\u001B[0;32m      1\u001B[0m archivo_excel \u001B[38;5;241m=\u001B[39m \u001B[38;5;124m'\u001B[39m\u001B[38;5;124m../data/D1_2009.xlsx\u001B[39m\u001B[38;5;124m'\u001B[39m\n\u001B[0;32m      2\u001B[0m df \u001B[38;5;241m=\u001B[39m pd\u001B[38;5;241m.\u001B[39mread_excel(archivo_excel)\n\u001B[1;32m----> 4\u001B[0m columna_links \u001B[38;5;241m=\u001B[39m \u001B[43mdf\u001B[49m\u001B[43m[\u001B[49m\u001B[38;5;124;43m'\u001B[39;49m\u001B[38;5;124;43mlink página web \u001B[39;49m\u001B[38;5;130;43;01m\\n\u001B[39;49;00m\u001B[38;5;124;43men ZAPATOCA\u001B[39;49m\u001B[38;5;124;43m'\u001B[39;49m\u001B[43m]\u001B[49m\n\u001B[0;32m      6\u001B[0m links \u001B[38;5;241m=\u001B[39m columna_links\u001B[38;5;241m.\u001B[39mtolist()\n",
      "File \u001B[1;32m~\\PycharmProjects\\JMC - SCRAPING\\.venv\\Lib\\site-packages\\pandas\\core\\frame.py:4102\u001B[0m, in \u001B[0;36mDataFrame.__getitem__\u001B[1;34m(self, key)\u001B[0m\n\u001B[0;32m   4100\u001B[0m \u001B[38;5;28;01mif\u001B[39;00m \u001B[38;5;28mself\u001B[39m\u001B[38;5;241m.\u001B[39mcolumns\u001B[38;5;241m.\u001B[39mnlevels \u001B[38;5;241m>\u001B[39m \u001B[38;5;241m1\u001B[39m:\n\u001B[0;32m   4101\u001B[0m     \u001B[38;5;28;01mreturn\u001B[39;00m \u001B[38;5;28mself\u001B[39m\u001B[38;5;241m.\u001B[39m_getitem_multilevel(key)\n\u001B[1;32m-> 4102\u001B[0m indexer \u001B[38;5;241m=\u001B[39m \u001B[38;5;28;43mself\u001B[39;49m\u001B[38;5;241;43m.\u001B[39;49m\u001B[43mcolumns\u001B[49m\u001B[38;5;241;43m.\u001B[39;49m\u001B[43mget_loc\u001B[49m\u001B[43m(\u001B[49m\u001B[43mkey\u001B[49m\u001B[43m)\u001B[49m\n\u001B[0;32m   4103\u001B[0m \u001B[38;5;28;01mif\u001B[39;00m is_integer(indexer):\n\u001B[0;32m   4104\u001B[0m     indexer \u001B[38;5;241m=\u001B[39m [indexer]\n",
      "File \u001B[1;32m~\\PycharmProjects\\JMC - SCRAPING\\.venv\\Lib\\site-packages\\pandas\\core\\indexes\\base.py:3812\u001B[0m, in \u001B[0;36mIndex.get_loc\u001B[1;34m(self, key)\u001B[0m\n\u001B[0;32m   3807\u001B[0m     \u001B[38;5;28;01mif\u001B[39;00m \u001B[38;5;28misinstance\u001B[39m(casted_key, \u001B[38;5;28mslice\u001B[39m) \u001B[38;5;129;01mor\u001B[39;00m (\n\u001B[0;32m   3808\u001B[0m         \u001B[38;5;28misinstance\u001B[39m(casted_key, abc\u001B[38;5;241m.\u001B[39mIterable)\n\u001B[0;32m   3809\u001B[0m         \u001B[38;5;129;01mand\u001B[39;00m \u001B[38;5;28many\u001B[39m(\u001B[38;5;28misinstance\u001B[39m(x, \u001B[38;5;28mslice\u001B[39m) \u001B[38;5;28;01mfor\u001B[39;00m x \u001B[38;5;129;01min\u001B[39;00m casted_key)\n\u001B[0;32m   3810\u001B[0m     ):\n\u001B[0;32m   3811\u001B[0m         \u001B[38;5;28;01mraise\u001B[39;00m InvalidIndexError(key)\n\u001B[1;32m-> 3812\u001B[0m     \u001B[38;5;28;01mraise\u001B[39;00m \u001B[38;5;167;01mKeyError\u001B[39;00m(key) \u001B[38;5;28;01mfrom\u001B[39;00m \u001B[38;5;21;01merr\u001B[39;00m\n\u001B[0;32m   3813\u001B[0m \u001B[38;5;28;01mexcept\u001B[39;00m \u001B[38;5;167;01mTypeError\u001B[39;00m:\n\u001B[0;32m   3814\u001B[0m     \u001B[38;5;66;03m# If we have a listlike key, _check_indexing_error will raise\u001B[39;00m\n\u001B[0;32m   3815\u001B[0m     \u001B[38;5;66;03m#  InvalidIndexError. Otherwise we fall through and re-raise\u001B[39;00m\n\u001B[0;32m   3816\u001B[0m     \u001B[38;5;66;03m#  the TypeError.\u001B[39;00m\n\u001B[0;32m   3817\u001B[0m     \u001B[38;5;28mself\u001B[39m\u001B[38;5;241m.\u001B[39m_check_indexing_error(key)\n",
      "\u001B[1;31mKeyError\u001B[0m: 'link página web \\nen ZAPATOCA'"
     ]
    }
   ],
   "execution_count": 3
  },
  {
   "metadata": {
    "ExecuteTime": {
     "end_time": "2024-09-20T18:30:54.939364Z",
     "start_time": "2024-09-20T18:30:54.934252Z"
    }
   },
   "cell_type": "code",
   "source": "stores = {\"Bogotá\":\"12165\",\"Medellin\":\"12310\",\"Barranquilla\":\"12341\",\"Bucaramanga\":\"12437\",\"Cali\":\"12490\"}",
   "id": "f8043592f7a125db",
   "outputs": [],
   "execution_count": 4
  },
  {
   "metadata": {
    "ExecuteTime": {
     "end_time": "2024-09-20T18:31:18.628907Z",
     "start_time": "2024-09-20T18:31:18.530496Z"
    }
   },
   "cell_type": "code",
   "source": "df.head()",
   "id": "f4a7ed84d25e7704",
   "outputs": [
    {
     "ename": "NameError",
     "evalue": "name 'links' is not defined",
     "output_type": "error",
     "traceback": [
      "\u001B[1;31m---------------------------------------------------------------------------\u001B[0m",
      "\u001B[1;31mNameError\u001B[0m                                 Traceback (most recent call last)",
      "Cell \u001B[1;32mIn[11], line 1\u001B[0m\n\u001B[1;32m----> 1\u001B[0m \u001B[43mlinks\u001B[49m\n",
      "\u001B[1;31mNameError\u001B[0m: name 'links' is not defined"
     ]
    }
   ],
   "execution_count": 11
  },
  {
   "metadata": {
    "ExecuteTime": {
     "end_time": "2024-09-20T18:30:55.646161Z",
     "start_time": "2024-09-20T18:30:55.634948Z"
    }
   },
   "cell_type": "code",
   "source": [
    "def fetch_sku(url):\n",
    "    match = re.search(r'(\\d+)$', url)\n",
    "    \n",
    "    if match:\n",
    "        number = match.group(1)\n",
    "        return number\n",
    "    else:\n",
    "        return 0 \n",
    "    \n",
    "def fetch_product(sku, store):\n",
    "    conn = http.client.HTTPSConnection(\"nextgentheadless.instaleap.io\", context=ssl._create_unverified_context() )\n",
    "    \n",
    "    payload = json.dumps([\n",
    "      {\n",
    "        \"operationName\": \"GetProductsBySKU\",\n",
    "        \"variables\": {\n",
    "          \"getProductsBySkuInput\": {\n",
    "            \"clientId\": \"D1\",\n",
    "            \"skus\": [\n",
    "              sku\n",
    "            ],\n",
    "            \"storeReference\": store\n",
    "          }\n",
    "        },\n",
    "        \"query\": \"fragment CategoryFields on CategoryModel {\\n  active\\n  boost\\n  hasChildren\\n  categoryNamesPath\\n  isAvailableInHome\\n  level\\n  name\\n  path\\n  reference\\n  slug\\n  photoUrl\\n  imageUrl\\n  shortName\\n  isFeatured\\n  isAssociatedToCatalog\\n  __typename\\n}\\n\\nfragment CatalogProductTagModel on CatalogProductTagModel {\\n  description\\n  enabled\\n  textColor\\n  filter\\n  tagReference\\n  backgroundColor\\n  name\\n  __typename\\n}\\n\\nfragment CatalogProductFormatModel on CatalogProductFormatModel {\\n  format\\n  equivalence\\n  unitEquivalence\\n  clickMultiplier\\n  minQty\\n  maxQty\\n  __typename\\n}\\n\\nfragment Taxes on ProductTaxModel {\\n  taxId\\n  taxName\\n  taxType\\n  taxValue\\n  taxSubTotal\\n  __typename\\n}\\n\\nfragment PromotionCondition on PromotionCondition {\\n  quantity\\n  price\\n  priceBeforeTaxes\\n  taxTotal\\n  taxes {\\n    ...Taxes\\n    __typename\\n  }\\n  __typename\\n}\\n\\nfragment Promotion on Promotion {\\n  type\\n  isActive\\n  conditions {\\n    ...PromotionCondition\\n    __typename\\n  }\\n  description\\n  endDateTime\\n  startDateTime\\n  __typename\\n}\\n\\nfragment PromotedModel on PromotedModel {\\n  isPromoted\\n  onLoadBeacon\\n  onClickBeacon\\n  onViewBeacon\\n  onBasketChangeBeacon\\n  onWishlistBeacon\\n  __typename\\n}\\n\\nfragment SpecificationModel on SpecificationModel {\\n  title\\n  values {\\n    label\\n    value\\n    __typename\\n  }\\n  __typename\\n}\\n\\nfragment NutritionalDetailsInformation on NutritionalDetailsInformation {\\n  servingName\\n  servingSize\\n  servingUnit\\n  servingsPerPortion\\n  nutritionalTable {\\n    nutrientName\\n    quantity\\n    unit\\n    quantityPerPortion\\n    dailyValue\\n    __typename\\n  }\\n  bottomInfo\\n  __typename\\n}\\n\\nfragment CatalogProductModel on CatalogProductModel {\\n  name\\n  price\\n  photosUrl\\n  unit\\n  subUnit\\n  subQty\\n  description\\n  sku\\n  ean\\n  maxQty\\n  minQty\\n  clickMultiplier\\n  nutritionalDetails\\n  isActive\\n  slug\\n  brand\\n  stock\\n  securityStock\\n  boost\\n  isAvailable\\n  location\\n  priceBeforeTaxes\\n  taxTotal\\n  promotion {\\n    ...Promotion\\n    __typename\\n  }\\n  taxes {\\n    ...Taxes\\n    __typename\\n  }\\n  categories {\\n    ...CategoryFields\\n    __typename\\n  }\\n  categoriesData {\\n    ...CategoryFields\\n    __typename\\n  }\\n  formats {\\n    ...CatalogProductFormatModel\\n    __typename\\n  }\\n  tags {\\n    ...CatalogProductTagModel\\n    __typename\\n  }\\n  specifications {\\n    ...SpecificationModel\\n    __typename\\n  }\\n  promoted {\\n    ...PromotedModel\\n    __typename\\n  }\\n  score\\n  relatedProducts\\n  ingredients\\n  stockWarning\\n  nutritionalDetailsInformation {\\n    ...NutritionalDetailsInformation\\n    __typename\\n  }\\n  productVariants\\n  isVariant\\n  isDominant\\n  __typename\\n}\\n\\nquery GetProductsBySKU($getProductsBySkuInput: GetProductsBySKUInput!) {\\n  getProductsBySKU(getProductsBySKUInput: $getProductsBySkuInput) {\\n    ...CatalogProductModel\\n    __typename\\n  }\\n}\"\n",
    "      }\n",
    "    ])\n",
    "    headers = {\n",
    "      'User-Agent': 'Mozilla/5.0 (Windows NT 10.0; Win64; x64; rv:129.0) Gecko/20100101 Firefox/129.0',\n",
    "      'Accept': '*/*',\n",
    "      'Accept-Language': 'en-US,en;q=0.5',\n",
    "      'Accept-Encoding': 'gzip, deflate, br, zstd',\n",
    "      'content-type': 'application/json',\n",
    "      'apollographql-client-name': 'Ecommerce',\n",
    "      'apollographql-client-version': '3.50.3',\n",
    "      'token': '',\n",
    "      'dpl-api-key': '',\n",
    "      'sentry-trace': '608e3f3b7a8a47d99e05eddfafb2410c-a44a86329ba7dcaa-1',\n",
    "      'baggage': 'sentry-environment=production,sentry-release=3.50.3,sentry-public_key=b29a7fe3cf5f486b9520c5b3de53a5a7,sentry-trace_id=608e3f3b7a8a47d99e05eddfafb2410c,sentry-sample_rate=0.1,sentry-sampled=true',\n",
    "      'Origin': 'https://domicilios.tiendasd1.com',\n",
    "      'Connection': 'keep-alive',\n",
    "      'Referer': 'https://domicilios.tiendasd1.com/',\n",
    "      'Sec-Fetch-Dest': 'empty',\n",
    "      'Sec-Fetch-Mode': 'cors',\n",
    "      'Sec-Fetch-Site': 'cross-site',\n",
    "      'Priority': 'u=4',\n",
    "      'TE': 'trailers'\n",
    "    }\n",
    "\n",
    "\n",
    "\n",
    "    conn.request(\"POST\", \"/api/v3\", payload, headers)\n",
    "    \n",
    "    res = conn.getresponse()\n",
    "    data = res.read()\n",
    "    if res.getheader('Content-Encoding') == 'gzip':\n",
    "        data = gzip.GzipFile(fileobj=BytesIO(data)).read()\n",
    "\n",
    "    data = json.loads(data.decode('utf-8'))\n",
    "    \n",
    "    conn.close()\n",
    "\n",
    "    return data\n",
    "\n",
    "def fetch_products(urls,store):\n",
    "    links = []\n",
    "    names = []\n",
    "    prices_without_discount = []\n",
    "    \n",
    "    for url in urls:\n",
    "        try:\n",
    "            data = fetch_product(fetch_sku(url),store)\n",
    "\n",
    "            product = data[0]['data']['getProductsBySKU'][0]\n",
    "                \n",
    "            links.extend([url])\n",
    "            names.extend([product['name']])\n",
    "            prices_without_discount.extend([product['priceBeforeTaxes']])\n",
    "        except:\n",
    "            links.extend([url])\n",
    "            names.extend(['no disponible'])\n",
    "            prices_without_discount.extend(['no disponible'])\n",
    "            print(f\"error en {url}\")\n",
    "\n",
    "    df = pd.DataFrame({\n",
    "            'Link': links,\n",
    "            'Name': names,\n",
    "            'Regular Price': prices_without_discount,\n",
    "            'Promotional Price': prices_without_discount\n",
    "    })\n",
    "    \n",
    "    return df\n"
   ],
   "id": "481fb0f28834ae0b",
   "outputs": [],
   "execution_count": 5
  },
  {
   "metadata": {
    "ExecuteTime": {
     "end_time": "2024-09-20T18:30:56.458001Z",
     "start_time": "2024-09-20T18:30:56.443805Z"
    }
   },
   "cell_type": "code",
   "source": "df = fetch_products(links, stores['Bogotá'])",
   "id": "9e9a074eb218ed4e",
   "outputs": [
    {
     "ename": "NameError",
     "evalue": "name 'links' is not defined",
     "output_type": "error",
     "traceback": [
      "\u001B[1;31m---------------------------------------------------------------------------\u001B[0m",
      "\u001B[1;31mNameError\u001B[0m                                 Traceback (most recent call last)",
      "Cell \u001B[1;32mIn[6], line 1\u001B[0m\n\u001B[1;32m----> 1\u001B[0m df \u001B[38;5;241m=\u001B[39m fetch_products(\u001B[43mlinks\u001B[49m, stores[\u001B[38;5;124m'\u001B[39m\u001B[38;5;124mBogotá\u001B[39m\u001B[38;5;124m'\u001B[39m])\n",
      "\u001B[1;31mNameError\u001B[0m: name 'links' is not defined"
     ]
    }
   ],
   "execution_count": 6
  },
  {
   "metadata": {
    "ExecuteTime": {
     "end_time": "2024-09-20T18:30:57.530794Z",
     "start_time": "2024-09-20T18:30:57.460813Z"
    }
   },
   "cell_type": "code",
   "source": "df.to_excel('productos_d1_links.xlsx', index=False)",
   "id": "17123605cf36170b",
   "outputs": [],
   "execution_count": 7
  },
  {
   "metadata": {},
   "cell_type": "code",
   "outputs": [],
   "execution_count": null,
   "source": "",
   "id": "dcd14c6907c3b4a9"
  }
 ],
 "metadata": {
  "kernelspec": {
   "display_name": "Python 3",
   "language": "python",
   "name": "python3"
  },
  "language_info": {
   "codemirror_mode": {
    "name": "ipython",
    "version": 2
   },
   "file_extension": ".py",
   "mimetype": "text/x-python",
   "name": "python",
   "nbconvert_exporter": "python",
   "pygments_lexer": "ipython2",
   "version": "2.7.6"
  }
 },
 "nbformat": 4,
 "nbformat_minor": 5
}
